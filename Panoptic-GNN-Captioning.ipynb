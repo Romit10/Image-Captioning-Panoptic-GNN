{
  "nbformat": 4,
  "nbformat_minor": 0,
  "metadata": {
    "accelerator": "GPU",
    "colab": {
      "name": "Full model with GAT.ipynb",
      "provenance": [],
      "collapsed_sections": []
    },
    "kernelspec": {
      "display_name": "Python 3",
      "name": "python3"
    },
    "language_info": {
      "name": "python"
    },
    "widgets": {
      "application/vnd.jupyter.widget-state+json": {
        "0916e162430343829c1b69ffb8d43efe": {
          "model_module": "@jupyter-widgets/controls",
          "model_name": "HBoxModel",
          "model_module_version": "1.5.0",
          "state": {
            "_view_name": "HBoxView",
            "_dom_classes": [],
            "_model_name": "HBoxModel",
            "_view_module": "@jupyter-widgets/controls",
            "_model_module_version": "1.5.0",
            "_view_count": null,
            "_view_module_version": "1.5.0",
            "box_style": "",
            "layout": "IPY_MODEL_d85621792e9547349dad0784fe9b3195",
            "_model_module": "@jupyter-widgets/controls",
            "children": [
              "IPY_MODEL_13ce32abd934445abba8006ed407de10",
              "IPY_MODEL_a1691f4f54224182be1ff71028eb69cc"
            ]
          }
        },
        "d85621792e9547349dad0784fe9b3195": {
          "model_module": "@jupyter-widgets/base",
          "model_name": "LayoutModel",
          "model_module_version": "1.2.0",
          "state": {
            "_view_name": "LayoutView",
            "grid_template_rows": null,
            "right": null,
            "justify_content": null,
            "_view_module": "@jupyter-widgets/base",
            "overflow": null,
            "_model_module_version": "1.2.0",
            "_view_count": null,
            "flex_flow": null,
            "width": null,
            "min_width": null,
            "border": null,
            "align_items": null,
            "bottom": null,
            "_model_module": "@jupyter-widgets/base",
            "top": null,
            "grid_column": null,
            "overflow_y": null,
            "overflow_x": null,
            "grid_auto_flow": null,
            "grid_area": null,
            "grid_template_columns": null,
            "flex": null,
            "_model_name": "LayoutModel",
            "justify_items": null,
            "grid_row": null,
            "max_height": null,
            "align_content": null,
            "visibility": null,
            "align_self": null,
            "height": null,
            "min_height": null,
            "padding": null,
            "grid_auto_rows": null,
            "grid_gap": null,
            "max_width": null,
            "order": null,
            "_view_module_version": "1.2.0",
            "grid_template_areas": null,
            "object_position": null,
            "object_fit": null,
            "grid_auto_columns": null,
            "margin": null,
            "display": null,
            "left": null
          }
        },
        "13ce32abd934445abba8006ed407de10": {
          "model_module": "@jupyter-widgets/controls",
          "model_name": "FloatProgressModel",
          "model_module_version": "1.5.0",
          "state": {
            "_view_name": "ProgressView",
            "style": "IPY_MODEL_d38a232d939c49f8aed3e1d1148b4d69",
            "_dom_classes": [],
            "description": "100%",
            "_model_name": "FloatProgressModel",
            "bar_style": "success",
            "max": 241530880,
            "_view_module": "@jupyter-widgets/controls",
            "_model_module_version": "1.5.0",
            "value": 241530880,
            "_view_count": null,
            "_view_module_version": "1.5.0",
            "orientation": "horizontal",
            "min": 0,
            "description_tooltip": null,
            "_model_module": "@jupyter-widgets/controls",
            "layout": "IPY_MODEL_ed606deb2b8c44eb96e5846d4813aea3"
          }
        },
        "a1691f4f54224182be1ff71028eb69cc": {
          "model_module": "@jupyter-widgets/controls",
          "model_name": "HTMLModel",
          "model_module_version": "1.5.0",
          "state": {
            "_view_name": "HTMLView",
            "style": "IPY_MODEL_460eb3a5c3534a38bcc52b1fa051a076",
            "_dom_classes": [],
            "description": "",
            "_model_name": "HTMLModel",
            "placeholder": "​",
            "_view_module": "@jupyter-widgets/controls",
            "_model_module_version": "1.5.0",
            "value": " 230M/230M [00:02&lt;00:00, 86.5MB/s]",
            "_view_count": null,
            "_view_module_version": "1.5.0",
            "description_tooltip": null,
            "_model_module": "@jupyter-widgets/controls",
            "layout": "IPY_MODEL_85b1d9a808c544fa86c97e39baa611ee"
          }
        },
        "d38a232d939c49f8aed3e1d1148b4d69": {
          "model_module": "@jupyter-widgets/controls",
          "model_name": "ProgressStyleModel",
          "model_module_version": "1.5.0",
          "state": {
            "_view_name": "StyleView",
            "_model_name": "ProgressStyleModel",
            "description_width": "initial",
            "_view_module": "@jupyter-widgets/base",
            "_model_module_version": "1.5.0",
            "_view_count": null,
            "_view_module_version": "1.2.0",
            "bar_color": null,
            "_model_module": "@jupyter-widgets/controls"
          }
        },
        "ed606deb2b8c44eb96e5846d4813aea3": {
          "model_module": "@jupyter-widgets/base",
          "model_name": "LayoutModel",
          "model_module_version": "1.2.0",
          "state": {
            "_view_name": "LayoutView",
            "grid_template_rows": null,
            "right": null,
            "justify_content": null,
            "_view_module": "@jupyter-widgets/base",
            "overflow": null,
            "_model_module_version": "1.2.0",
            "_view_count": null,
            "flex_flow": null,
            "width": null,
            "min_width": null,
            "border": null,
            "align_items": null,
            "bottom": null,
            "_model_module": "@jupyter-widgets/base",
            "top": null,
            "grid_column": null,
            "overflow_y": null,
            "overflow_x": null,
            "grid_auto_flow": null,
            "grid_area": null,
            "grid_template_columns": null,
            "flex": null,
            "_model_name": "LayoutModel",
            "justify_items": null,
            "grid_row": null,
            "max_height": null,
            "align_content": null,
            "visibility": null,
            "align_self": null,
            "height": null,
            "min_height": null,
            "padding": null,
            "grid_auto_rows": null,
            "grid_gap": null,
            "max_width": null,
            "order": null,
            "_view_module_version": "1.2.0",
            "grid_template_areas": null,
            "object_position": null,
            "object_fit": null,
            "grid_auto_columns": null,
            "margin": null,
            "display": null,
            "left": null
          }
        },
        "460eb3a5c3534a38bcc52b1fa051a076": {
          "model_module": "@jupyter-widgets/controls",
          "model_name": "DescriptionStyleModel",
          "model_module_version": "1.5.0",
          "state": {
            "_view_name": "StyleView",
            "_model_name": "DescriptionStyleModel",
            "description_width": "",
            "_view_module": "@jupyter-widgets/base",
            "_model_module_version": "1.5.0",
            "_view_count": null,
            "_view_module_version": "1.2.0",
            "_model_module": "@jupyter-widgets/controls"
          }
        },
        "85b1d9a808c544fa86c97e39baa611ee": {
          "model_module": "@jupyter-widgets/base",
          "model_name": "LayoutModel",
          "model_module_version": "1.2.0",
          "state": {
            "_view_name": "LayoutView",
            "grid_template_rows": null,
            "right": null,
            "justify_content": null,
            "_view_module": "@jupyter-widgets/base",
            "overflow": null,
            "_model_module_version": "1.2.0",
            "_view_count": null,
            "flex_flow": null,
            "width": null,
            "min_width": null,
            "border": null,
            "align_items": null,
            "bottom": null,
            "_model_module": "@jupyter-widgets/base",
            "top": null,
            "grid_column": null,
            "overflow_y": null,
            "overflow_x": null,
            "grid_auto_flow": null,
            "grid_area": null,
            "grid_template_columns": null,
            "flex": null,
            "_model_name": "LayoutModel",
            "justify_items": null,
            "grid_row": null,
            "max_height": null,
            "align_content": null,
            "visibility": null,
            "align_self": null,
            "height": null,
            "min_height": null,
            "padding": null,
            "grid_auto_rows": null,
            "grid_gap": null,
            "max_width": null,
            "order": null,
            "_view_module_version": "1.2.0",
            "grid_template_areas": null,
            "object_position": null,
            "object_fit": null,
            "grid_auto_columns": null,
            "margin": null,
            "display": null,
            "left": null
          }
        }
      }
    }
  },
  "cells": [
    {
      "cell_type": "code",
      "metadata": {
        "colab": {
          "base_uri": "https://localhost:8080/"
        },
        "id": "K-E-9kx_6KVA",
        "outputId": "35ff3958-7595-4dca-9913-fcad9e520509"
      },
      "source": [
        "from google.colab import drive\n",
        "drive.mount('/content/drive')"
      ],
      "execution_count": null,
      "outputs": [
        {
          "output_type": "stream",
          "text": [
            "Mounted at /content/drive\n"
          ],
          "name": "stdout"
        }
      ]
    },
    {
      "cell_type": "code",
      "metadata": {
        "colab": {
          "base_uri": "https://localhost:8080/"
        },
        "id": "5M2oCfSp6-07",
        "outputId": "06370e0b-86d8-4cbb-f3d3-9d0dc3a32ae8"
      },
      "source": [
        "!pip install torch==1.5.0 torchvision==0.6.0 -f https://download.pytorch.org/whl/torch_stable.html"
      ],
      "execution_count": null,
      "outputs": [
        {
          "output_type": "stream",
          "text": [
            "Looking in links: https://download.pytorch.org/whl/torch_stable.html\n",
            "Collecting torch==1.5.0\n",
            "\u001b[?25l  Downloading https://download.pytorch.org/whl/cu92/torch-1.5.0%2Bcu92-cp37-cp37m-linux_x86_64.whl (603.7MB)\n",
            "\u001b[K     |████████████████████████████████| 603.7MB 29kB/s \n",
            "\u001b[?25hCollecting torchvision==0.6.0\n",
            "\u001b[?25l  Downloading https://download.pytorch.org/whl/cu92/torchvision-0.6.0%2Bcu92-cp37-cp37m-linux_x86_64.whl (6.5MB)\n",
            "\u001b[K     |████████████████████████████████| 6.5MB 34.6MB/s \n",
            "\u001b[?25hRequirement already satisfied: numpy in /usr/local/lib/python3.7/dist-packages (from torch==1.5.0) (1.19.5)\n",
            "Requirement already satisfied: future in /usr/local/lib/python3.7/dist-packages (from torch==1.5.0) (0.16.0)\n",
            "Requirement already satisfied: pillow>=4.1.1 in /usr/local/lib/python3.7/dist-packages (from torchvision==0.6.0) (7.1.2)\n",
            "\u001b[31mERROR: torchtext 0.9.1 has requirement torch==1.8.1, but you'll have torch 1.5.0+cu92 which is incompatible.\u001b[0m\n",
            "Installing collected packages: torch, torchvision\n",
            "  Found existing installation: torch 1.8.1+cu101\n",
            "    Uninstalling torch-1.8.1+cu101:\n",
            "      Successfully uninstalled torch-1.8.1+cu101\n",
            "  Found existing installation: torchvision 0.9.1+cu101\n",
            "    Uninstalling torchvision-0.9.1+cu101:\n",
            "      Successfully uninstalled torchvision-0.9.1+cu101\n",
            "Successfully installed torch-1.5.0+cu92 torchvision-0.6.0+cu92\n"
          ],
          "name": "stdout"
        }
      ]
    },
    {
      "cell_type": "code",
      "metadata": {
        "colab": {
          "base_uri": "https://localhost:8080/"
        },
        "id": "VwNldQA47G9x",
        "outputId": "b256675f-11c6-40b7-d69f-435749e4d86e"
      },
      "source": [
        "!pip install cython pyyaml==5.1\n",
        "!pip install -U 'git+https://github.com/cocodataset/cocoapi.git#subdirectory=PythonAPI'\n",
        "!git clone https://github.com/facebookresearch/detectron2 detectron2_repo\n",
        "#!pip install opencv-python Google Colab already comes with OpenCV"
      ],
      "execution_count": null,
      "outputs": [
        {
          "output_type": "stream",
          "text": [
            "Requirement already satisfied: cython in /usr/local/lib/python3.7/dist-packages (0.29.22)\n",
            "Collecting pyyaml==5.1\n",
            "\u001b[?25l  Downloading https://files.pythonhosted.org/packages/9f/2c/9417b5c774792634834e730932745bc09a7d36754ca00acf1ccd1ac2594d/PyYAML-5.1.tar.gz (274kB)\n",
            "\u001b[K     |████████████████████████████████| 276kB 7.5MB/s \n",
            "\u001b[?25hBuilding wheels for collected packages: pyyaml\n",
            "  Building wheel for pyyaml (setup.py) ... \u001b[?25l\u001b[?25hdone\n",
            "  Created wheel for pyyaml: filename=PyYAML-5.1-cp37-cp37m-linux_x86_64.whl size=44074 sha256=bfaa9bb359b28c0317a889eec49729e013f300c280211840fbf169c4be65ff7a\n",
            "  Stored in directory: /root/.cache/pip/wheels/ad/56/bc/1522f864feb2a358ea6f1a92b4798d69ac783a28e80567a18b\n",
            "Successfully built pyyaml\n",
            "Installing collected packages: pyyaml\n",
            "  Found existing installation: PyYAML 3.13\n",
            "    Uninstalling PyYAML-3.13:\n",
            "      Successfully uninstalled PyYAML-3.13\n",
            "Successfully installed pyyaml-5.1\n",
            "Collecting git+https://github.com/cocodataset/cocoapi.git#subdirectory=PythonAPI\n",
            "  Cloning https://github.com/cocodataset/cocoapi.git to /tmp/pip-req-build-vo59y8y2\n",
            "  Running command git clone -q https://github.com/cocodataset/cocoapi.git /tmp/pip-req-build-vo59y8y2\n",
            "Requirement already satisfied, skipping upgrade: setuptools>=18.0 in /usr/local/lib/python3.7/dist-packages (from pycocotools==2.0) (56.1.0)\n",
            "Requirement already satisfied, skipping upgrade: cython>=0.27.3 in /usr/local/lib/python3.7/dist-packages (from pycocotools==2.0) (0.29.22)\n",
            "Requirement already satisfied, skipping upgrade: matplotlib>=2.1.0 in /usr/local/lib/python3.7/dist-packages (from pycocotools==2.0) (3.2.2)\n",
            "Requirement already satisfied, skipping upgrade: numpy>=1.11 in /usr/local/lib/python3.7/dist-packages (from matplotlib>=2.1.0->pycocotools==2.0) (1.19.5)\n",
            "Requirement already satisfied, skipping upgrade: pyparsing!=2.0.4,!=2.1.2,!=2.1.6,>=2.0.1 in /usr/local/lib/python3.7/dist-packages (from matplotlib>=2.1.0->pycocotools==2.0) (2.4.7)\n",
            "Requirement already satisfied, skipping upgrade: kiwisolver>=1.0.1 in /usr/local/lib/python3.7/dist-packages (from matplotlib>=2.1.0->pycocotools==2.0) (1.3.1)\n",
            "Requirement already satisfied, skipping upgrade: python-dateutil>=2.1 in /usr/local/lib/python3.7/dist-packages (from matplotlib>=2.1.0->pycocotools==2.0) (2.8.1)\n",
            "Requirement already satisfied, skipping upgrade: cycler>=0.10 in /usr/local/lib/python3.7/dist-packages (from matplotlib>=2.1.0->pycocotools==2.0) (0.10.0)\n",
            "Requirement already satisfied, skipping upgrade: six>=1.5 in /usr/local/lib/python3.7/dist-packages (from python-dateutil>=2.1->matplotlib>=2.1.0->pycocotools==2.0) (1.15.0)\n",
            "Building wheels for collected packages: pycocotools\n",
            "  Building wheel for pycocotools (setup.py) ... \u001b[?25l\u001b[?25hdone\n",
            "  Created wheel for pycocotools: filename=pycocotools-2.0-cp37-cp37m-linux_x86_64.whl size=263920 sha256=3d825c0cc3b2be704b77ae2c9ba78f5f76106a01208213e66699353a71fceaef\n",
            "  Stored in directory: /tmp/pip-ephem-wheel-cache-ujminlnr/wheels/90/51/41/646daf401c3bc408ff10de34ec76587a9b3ebfac8d21ca5c3a\n",
            "Successfully built pycocotools\n",
            "Installing collected packages: pycocotools\n",
            "  Found existing installation: pycocotools 2.0.2\n",
            "    Uninstalling pycocotools-2.0.2:\n",
            "      Successfully uninstalled pycocotools-2.0.2\n",
            "Successfully installed pycocotools-2.0\n",
            "Cloning into 'detectron2_repo'...\n",
            "remote: Enumerating objects: 12108, done.\u001b[K\n",
            "remote: Counting objects: 100% (15/15), done.\u001b[K\n",
            "remote: Compressing objects: 100% (14/14), done.\u001b[K\n",
            "remote: Total 12108 (delta 1), reused 5 (delta 1), pack-reused 12093\u001b[K\n",
            "Receiving objects: 100% (12108/12108), 4.77 MiB | 21.70 MiB/s, done.\n",
            "Resolving deltas: 100% (8838/8838), done.\n"
          ],
          "name": "stdout"
        }
      ]
    },
    {
      "cell_type": "code",
      "metadata": {
        "colab": {
          "base_uri": "https://localhost:8080/"
        },
        "id": "QLBzbT1p7Ipt",
        "outputId": "d0d6446d-4f77-4e18-ddb1-7b876e9e6a6d"
      },
      "source": [
        "# install detectron2:\n",
        "!pip install detectron2==0.1.3 -f https://dl.fbaipublicfiles.com/detectron2/wheels/cu101/torch1.5/index.html"
      ],
      "execution_count": null,
      "outputs": [
        {
          "output_type": "stream",
          "text": [
            "Looking in links: https://dl.fbaipublicfiles.com/detectron2/wheels/cu101/torch1.5/index.html\n",
            "Collecting detectron2==0.1.3\n",
            "\u001b[?25l  Downloading https://dl.fbaipublicfiles.com/detectron2/wheels/cu101/torch1.5/detectron2-0.1.3%2Bcu101-cp37-cp37m-linux_x86_64.whl (6.2MB)\n",
            "\u001b[K     |████████████████████████████████| 6.2MB 6.7MB/s \n",
            "\u001b[?25hCollecting fvcore>=0.1.1\n",
            "\u001b[?25l  Downloading https://files.pythonhosted.org/packages/6e/92/2be306907d9aa165418d8b3b207df507315b9280066ac2a889c036cefa85/fvcore-0.1.5.post20210511.tar.gz (48kB)\n",
            "\u001b[K     |████████████████████████████████| 51kB 4.4MB/s \n",
            "\u001b[?25hRequirement already satisfied: tensorboard in /usr/local/lib/python3.7/dist-packages (from detectron2==0.1.3) (2.4.1)\n",
            "Collecting yacs>=0.1.6\n",
            "  Downloading https://files.pythonhosted.org/packages/38/4f/fe9a4d472aa867878ce3bb7efb16654c5d63672b86dc0e6e953a67018433/yacs-0.1.8-py3-none-any.whl\n",
            "Requirement already satisfied: termcolor>=1.1 in /usr/local/lib/python3.7/dist-packages (from detectron2==0.1.3) (1.1.0)\n",
            "Requirement already satisfied: tabulate in /usr/local/lib/python3.7/dist-packages (from detectron2==0.1.3) (0.8.9)\n",
            "Requirement already satisfied: tqdm>4.29.0 in /usr/local/lib/python3.7/dist-packages (from detectron2==0.1.3) (4.41.1)\n",
            "Collecting mock\n",
            "  Downloading https://files.pythonhosted.org/packages/5c/03/b7e605db4a57c0f6fba744b11ef3ddf4ddebcada35022927a2b5fc623fdf/mock-4.0.3-py3-none-any.whl\n",
            "Requirement already satisfied: future in /usr/local/lib/python3.7/dist-packages (from detectron2==0.1.3) (0.16.0)\n",
            "Requirement already satisfied: pydot in /usr/local/lib/python3.7/dist-packages (from detectron2==0.1.3) (1.3.0)\n",
            "Requirement already satisfied: cloudpickle in /usr/local/lib/python3.7/dist-packages (from detectron2==0.1.3) (1.3.0)\n",
            "Requirement already satisfied: Pillow in /usr/local/lib/python3.7/dist-packages (from detectron2==0.1.3) (7.1.2)\n",
            "Requirement already satisfied: matplotlib in /usr/local/lib/python3.7/dist-packages (from detectron2==0.1.3) (3.2.2)\n",
            "Requirement already satisfied: numpy in /usr/local/lib/python3.7/dist-packages (from fvcore>=0.1.1->detectron2==0.1.3) (1.19.5)\n",
            "Requirement already satisfied: pyyaml>=5.1 in /usr/local/lib/python3.7/dist-packages (from fvcore>=0.1.1->detectron2==0.1.3) (5.1)\n",
            "Collecting iopath>=0.1.7\n",
            "  Downloading https://files.pythonhosted.org/packages/21/d0/22104caed16fa41382702fed959f4a9b088b2f905e7a82e4483180a2ec2a/iopath-0.1.8-py3-none-any.whl\n",
            "Requirement already satisfied: absl-py>=0.4 in /usr/local/lib/python3.7/dist-packages (from tensorboard->detectron2==0.1.3) (0.12.0)\n",
            "Requirement already satisfied: requests<3,>=2.21.0 in /usr/local/lib/python3.7/dist-packages (from tensorboard->detectron2==0.1.3) (2.23.0)\n",
            "Requirement already satisfied: grpcio>=1.24.3 in /usr/local/lib/python3.7/dist-packages (from tensorboard->detectron2==0.1.3) (1.32.0)\n",
            "Requirement already satisfied: six>=1.10.0 in /usr/local/lib/python3.7/dist-packages (from tensorboard->detectron2==0.1.3) (1.15.0)\n",
            "Requirement already satisfied: wheel>=0.26; python_version >= \"3\" in /usr/local/lib/python3.7/dist-packages (from tensorboard->detectron2==0.1.3) (0.36.2)\n",
            "Requirement already satisfied: markdown>=2.6.8 in /usr/local/lib/python3.7/dist-packages (from tensorboard->detectron2==0.1.3) (3.3.4)\n",
            "Requirement already satisfied: setuptools>=41.0.0 in /usr/local/lib/python3.7/dist-packages (from tensorboard->detectron2==0.1.3) (56.1.0)\n",
            "Requirement already satisfied: google-auth-oauthlib<0.5,>=0.4.1 in /usr/local/lib/python3.7/dist-packages (from tensorboard->detectron2==0.1.3) (0.4.4)\n",
            "Requirement already satisfied: werkzeug>=0.11.15 in /usr/local/lib/python3.7/dist-packages (from tensorboard->detectron2==0.1.3) (1.0.1)\n",
            "Requirement already satisfied: tensorboard-plugin-wit>=1.6.0 in /usr/local/lib/python3.7/dist-packages (from tensorboard->detectron2==0.1.3) (1.8.0)\n",
            "Requirement already satisfied: google-auth<2,>=1.6.3 in /usr/local/lib/python3.7/dist-packages (from tensorboard->detectron2==0.1.3) (1.28.1)\n",
            "Requirement already satisfied: protobuf>=3.6.0 in /usr/local/lib/python3.7/dist-packages (from tensorboard->detectron2==0.1.3) (3.12.4)\n",
            "Requirement already satisfied: pyparsing>=2.1.4 in /usr/local/lib/python3.7/dist-packages (from pydot->detectron2==0.1.3) (2.4.7)\n",
            "Requirement already satisfied: kiwisolver>=1.0.1 in /usr/local/lib/python3.7/dist-packages (from matplotlib->detectron2==0.1.3) (1.3.1)\n",
            "Requirement already satisfied: cycler>=0.10 in /usr/local/lib/python3.7/dist-packages (from matplotlib->detectron2==0.1.3) (0.10.0)\n",
            "Requirement already satisfied: python-dateutil>=2.1 in /usr/local/lib/python3.7/dist-packages (from matplotlib->detectron2==0.1.3) (2.8.1)\n",
            "Collecting portalocker\n",
            "  Downloading https://files.pythonhosted.org/packages/68/33/cb524f4de298509927b90aa5ee34767b9a2b93e663cf354b2a3efa2b4acd/portalocker-2.3.0-py2.py3-none-any.whl\n",
            "Requirement already satisfied: certifi>=2017.4.17 in /usr/local/lib/python3.7/dist-packages (from requests<3,>=2.21.0->tensorboard->detectron2==0.1.3) (2020.12.5)\n",
            "Requirement already satisfied: urllib3!=1.25.0,!=1.25.1,<1.26,>=1.21.1 in /usr/local/lib/python3.7/dist-packages (from requests<3,>=2.21.0->tensorboard->detectron2==0.1.3) (1.24.3)\n",
            "Requirement already satisfied: idna<3,>=2.5 in /usr/local/lib/python3.7/dist-packages (from requests<3,>=2.21.0->tensorboard->detectron2==0.1.3) (2.10)\n",
            "Requirement already satisfied: chardet<4,>=3.0.2 in /usr/local/lib/python3.7/dist-packages (from requests<3,>=2.21.0->tensorboard->detectron2==0.1.3) (3.0.4)\n",
            "Requirement already satisfied: importlib-metadata; python_version < \"3.8\" in /usr/local/lib/python3.7/dist-packages (from markdown>=2.6.8->tensorboard->detectron2==0.1.3) (3.10.1)\n",
            "Requirement already satisfied: requests-oauthlib>=0.7.0 in /usr/local/lib/python3.7/dist-packages (from google-auth-oauthlib<0.5,>=0.4.1->tensorboard->detectron2==0.1.3) (1.3.0)\n",
            "Requirement already satisfied: cachetools<5.0,>=2.0.0 in /usr/local/lib/python3.7/dist-packages (from google-auth<2,>=1.6.3->tensorboard->detectron2==0.1.3) (4.2.1)\n",
            "Requirement already satisfied: rsa<5,>=3.1.4; python_version >= \"3.6\" in /usr/local/lib/python3.7/dist-packages (from google-auth<2,>=1.6.3->tensorboard->detectron2==0.1.3) (4.7.2)\n",
            "Requirement already satisfied: pyasn1-modules>=0.2.1 in /usr/local/lib/python3.7/dist-packages (from google-auth<2,>=1.6.3->tensorboard->detectron2==0.1.3) (0.2.8)\n",
            "Requirement already satisfied: zipp>=0.5 in /usr/local/lib/python3.7/dist-packages (from importlib-metadata; python_version < \"3.8\"->markdown>=2.6.8->tensorboard->detectron2==0.1.3) (3.4.1)\n",
            "Requirement already satisfied: typing-extensions>=3.6.4; python_version < \"3.8\" in /usr/local/lib/python3.7/dist-packages (from importlib-metadata; python_version < \"3.8\"->markdown>=2.6.8->tensorboard->detectron2==0.1.3) (3.7.4.3)\n",
            "Requirement already satisfied: oauthlib>=3.0.0 in /usr/local/lib/python3.7/dist-packages (from requests-oauthlib>=0.7.0->google-auth-oauthlib<0.5,>=0.4.1->tensorboard->detectron2==0.1.3) (3.1.0)\n",
            "Requirement already satisfied: pyasn1>=0.1.3 in /usr/local/lib/python3.7/dist-packages (from rsa<5,>=3.1.4; python_version >= \"3.6\"->google-auth<2,>=1.6.3->tensorboard->detectron2==0.1.3) (0.4.8)\n",
            "Building wheels for collected packages: fvcore\n",
            "  Building wheel for fvcore (setup.py) ... \u001b[?25l\u001b[?25hdone\n",
            "  Created wheel for fvcore: filename=fvcore-0.1.5.post20210511-cp37-none-any.whl size=59498 sha256=4a0ec4030ae1ab3fb479859519bd7ae9f14e3cceaf24455104cf952b75528a73\n",
            "  Stored in directory: /root/.cache/pip/wheels/10/29/26/aac1434f27f51e56c84401c7f826d5079973e6f5e4c18c8105\n",
            "Successfully built fvcore\n",
            "Installing collected packages: yacs, portalocker, iopath, fvcore, mock, detectron2\n",
            "Successfully installed detectron2-0.1.3+cu101 fvcore-0.1.5.post20210511 iopath-0.1.8 mock-4.0.3 portalocker-2.3.0 yacs-0.1.8\n"
          ],
          "name": "stdout"
        }
      ]
    },
    {
      "cell_type": "markdown",
      "metadata": {
        "id": "75cC8uCH6sLY"
      },
      "source": [
        "# Data loader"
      ]
    },
    {
      "cell_type": "code",
      "metadata": {
        "id": "fkA5mA_86lDJ"
      },
      "source": [
        "# import some common libraries\n",
        "import numpy as np\n",
        "import argparse\n",
        "import pickle\n",
        "import cv2\n",
        "import random\n",
        "import os\n",
        "from google.colab.patches import cv2_imshow # On your local machine you don't need it.\n",
        "import torch, torchvision\n",
        "import torchvision.models as models\n",
        "from torch.nn.utils.rnn import pack_padded_sequence\n",
        "import torchvision.transforms as transforms\n",
        "import detectron2\n",
        "# import some common detectron2 utilities\n",
        "from detectron2 import model_zoo\n",
        "from detectron2.engine import DefaultPredictor\n",
        "from detectron2.config import get_cfg\n",
        "from detectron2.utils.visualizer import Visualizer\n",
        "from detectron2.data import MetadataCatalog"
      ],
      "execution_count": null,
      "outputs": []
    },
    {
      "cell_type": "code",
      "metadata": {
        "colab": {
          "base_uri": "https://localhost:8080/"
        },
        "id": "Uw97pOQl7o05",
        "outputId": "0e50962d-a1d4-49aa-e686-4e8f232b57cd"
      },
      "source": [
        "%cd /content/drive/Shareddrives/btp-group4/Captioning"
      ],
      "execution_count": null,
      "outputs": [
        {
          "output_type": "stream",
          "text": [
            "/content/drive/Shareddrives/btp-group4/Captioning\n"
          ],
          "name": "stdout"
        }
      ]
    },
    {
      "cell_type": "code",
      "metadata": {
        "colab": {
          "base_uri": "https://localhost:8080/"
        },
        "id": "DkBZbine7pBU",
        "outputId": "fa298965-dc6f-44ee-c17f-f9b0c075ee84"
      },
      "source": [
        "%cd coco/PythonAPI/\n",
        "!python setup.py build_ext --inplace\n",
        "!python setup.py build_ext install\n",
        "%cd ../../"
      ],
      "execution_count": null,
      "outputs": [
        {
          "output_type": "stream",
          "text": [
            "/content/drive/Shareddrives/btp-group4/Captioning/coco/PythonAPI\n",
            "running build_ext\n",
            "skipping 'pycocotools/_mask.c' Cython extension (up-to-date)\n",
            "copying build/lib.linux-x86_64-3.7/pycocotools/_mask.cpython-37m-x86_64-linux-gnu.so -> pycocotools\n",
            "running build_ext\n",
            "skipping 'pycocotools/_mask.c' Cython extension (up-to-date)\n",
            "running install\n",
            "running bdist_egg\n",
            "running egg_info\n",
            "writing pycocotools.egg-info/PKG-INFO\n",
            "writing dependency_links to pycocotools.egg-info/dependency_links.txt\n",
            "writing requirements to pycocotools.egg-info/requires.txt\n",
            "writing top-level names to pycocotools.egg-info/top_level.txt\n",
            "writing manifest file 'pycocotools.egg-info/SOURCES.txt'\n",
            "installing library code to build/bdist.linux-x86_64/egg\n",
            "running install_lib\n",
            "running build_py\n",
            "creating build/bdist.linux-x86_64/egg\n",
            "creating build/bdist.linux-x86_64/egg/pycocotools\n",
            "copying build/lib.linux-x86_64-3.7/pycocotools/mask.py -> build/bdist.linux-x86_64/egg/pycocotools\n",
            "copying build/lib.linux-x86_64-3.7/pycocotools/__init__.py -> build/bdist.linux-x86_64/egg/pycocotools\n",
            "copying build/lib.linux-x86_64-3.7/pycocotools/cocoeval.py -> build/bdist.linux-x86_64/egg/pycocotools\n",
            "copying build/lib.linux-x86_64-3.7/pycocotools/coco.py -> build/bdist.linux-x86_64/egg/pycocotools\n",
            "copying build/lib.linux-x86_64-3.7/pycocotools/_mask.cpython-37m-x86_64-linux-gnu.so -> build/bdist.linux-x86_64/egg/pycocotools\n",
            "byte-compiling build/bdist.linux-x86_64/egg/pycocotools/mask.py to mask.cpython-37.pyc\n",
            "byte-compiling build/bdist.linux-x86_64/egg/pycocotools/__init__.py to __init__.cpython-37.pyc\n",
            "byte-compiling build/bdist.linux-x86_64/egg/pycocotools/cocoeval.py to cocoeval.cpython-37.pyc\n",
            "byte-compiling build/bdist.linux-x86_64/egg/pycocotools/coco.py to coco.cpython-37.pyc\n",
            "creating stub loader for pycocotools/_mask.cpython-37m-x86_64-linux-gnu.so\n",
            "byte-compiling build/bdist.linux-x86_64/egg/pycocotools/_mask.py to _mask.cpython-37.pyc\n",
            "creating build/bdist.linux-x86_64/egg/EGG-INFO\n",
            "copying pycocotools.egg-info/PKG-INFO -> build/bdist.linux-x86_64/egg/EGG-INFO\n",
            "copying pycocotools.egg-info/SOURCES.txt -> build/bdist.linux-x86_64/egg/EGG-INFO\n",
            "copying pycocotools.egg-info/dependency_links.txt -> build/bdist.linux-x86_64/egg/EGG-INFO\n",
            "copying pycocotools.egg-info/requires.txt -> build/bdist.linux-x86_64/egg/EGG-INFO\n",
            "copying pycocotools.egg-info/top_level.txt -> build/bdist.linux-x86_64/egg/EGG-INFO\n",
            "writing build/bdist.linux-x86_64/egg/EGG-INFO/native_libs.txt\n",
            "zip_safe flag not set; analyzing archive contents...\n",
            "pycocotools.__pycache__._mask.cpython-37: module references __file__\n",
            "creating 'dist/pycocotools-2.0-py3.7-linux-x86_64.egg' and adding 'build/bdist.linux-x86_64/egg' to it\n",
            "removing 'build/bdist.linux-x86_64/egg' (and everything under it)\n",
            "Processing pycocotools-2.0-py3.7-linux-x86_64.egg\n",
            "creating /usr/local/lib/python3.7/dist-packages/pycocotools-2.0-py3.7-linux-x86_64.egg\n",
            "Extracting pycocotools-2.0-py3.7-linux-x86_64.egg to /usr/local/lib/python3.7/dist-packages\n",
            "Adding pycocotools 2.0 to easy-install.pth file\n",
            "\n",
            "Installed /usr/local/lib/python3.7/dist-packages/pycocotools-2.0-py3.7-linux-x86_64.egg\n",
            "Processing dependencies for pycocotools==2.0\n",
            "Searching for matplotlib==3.2.2\n",
            "Best match: matplotlib 3.2.2\n",
            "Adding matplotlib 3.2.2 to easy-install.pth file\n",
            "\n",
            "Using /usr/local/lib/python3.7/dist-packages\n",
            "Searching for Cython==0.29.22\n",
            "Best match: Cython 0.29.22\n",
            "Adding Cython 0.29.22 to easy-install.pth file\n",
            "Installing cygdb script to /usr/local/bin\n",
            "Installing cython script to /usr/local/bin\n",
            "Installing cythonize script to /usr/local/bin\n",
            "\n",
            "Using /usr/local/lib/python3.7/dist-packages\n",
            "Searching for setuptools==56.1.0\n",
            "Best match: setuptools 56.1.0\n",
            "Adding setuptools 56.1.0 to easy-install.pth file\n",
            "\n",
            "Using /usr/local/lib/python3.7/dist-packages\n",
            "Searching for kiwisolver==1.3.1\n",
            "Best match: kiwisolver 1.3.1\n",
            "Adding kiwisolver 1.3.1 to easy-install.pth file\n",
            "\n",
            "Using /usr/local/lib/python3.7/dist-packages\n",
            "Searching for pyparsing==2.4.7\n",
            "Best match: pyparsing 2.4.7\n",
            "Adding pyparsing 2.4.7 to easy-install.pth file\n",
            "\n",
            "Using /usr/local/lib/python3.7/dist-packages\n",
            "Searching for python-dateutil==2.8.1\n",
            "Best match: python-dateutil 2.8.1\n",
            "Adding python-dateutil 2.8.1 to easy-install.pth file\n",
            "\n",
            "Using /usr/local/lib/python3.7/dist-packages\n",
            "Searching for cycler==0.10.0\n",
            "Best match: cycler 0.10.0\n",
            "Adding cycler 0.10.0 to easy-install.pth file\n",
            "\n",
            "Using /usr/local/lib/python3.7/dist-packages\n",
            "Searching for numpy==1.19.5\n",
            "Best match: numpy 1.19.5\n",
            "Adding numpy 1.19.5 to easy-install.pth file\n",
            "Installing f2py script to /usr/local/bin\n",
            "Installing f2py3 script to /usr/local/bin\n",
            "Installing f2py3.7 script to /usr/local/bin\n",
            "\n",
            "Using /usr/local/lib/python3.7/dist-packages\n",
            "Searching for six==1.15.0\n",
            "Best match: six 1.15.0\n",
            "Adding six 1.15.0 to easy-install.pth file\n",
            "\n",
            "Using /usr/local/lib/python3.7/dist-packages\n",
            "Finished processing dependencies for pycocotools==2.0\n",
            "/content/drive/Shareddrives/btp-group4/Captioning\n"
          ],
          "name": "stdout"
        }
      ]
    },
    {
      "cell_type": "code",
      "metadata": {
        "colab": {
          "base_uri": "https://localhost:8080/"
        },
        "id": "AYHvizIG7pD0",
        "outputId": "3ef15db5-56a4-4fda-f188-74ee65d1d1b1"
      },
      "source": [
        "# !git clone https://github.com/yunjey/pytorch-tutorial.git\n",
        "%cd pytorch-tutorial/tutorials/03-advanced/image_captioning/\n",
        "!pip install -r requirements.txt"
      ],
      "execution_count": null,
      "outputs": [
        {
          "output_type": "stream",
          "text": [
            "/content/drive/Shareddrives/btp-group4/Captioning/pytorch-tutorial/tutorials/03-advanced/image_captioning\n",
            "Requirement already satisfied: matplotlib in /usr/local/lib/python3.7/dist-packages (from -r requirements.txt (line 1)) (3.2.2)\n",
            "Requirement already satisfied: nltk in /usr/local/lib/python3.7/dist-packages (from -r requirements.txt (line 2)) (3.2.5)\n",
            "Requirement already satisfied: numpy in /usr/local/lib/python3.7/dist-packages (from -r requirements.txt (line 3)) (1.19.5)\n",
            "Requirement already satisfied: Pillow in /usr/local/lib/python3.7/dist-packages (from -r requirements.txt (line 4)) (7.1.2)\n",
            "Requirement already satisfied: cycler>=0.10 in /usr/local/lib/python3.7/dist-packages (from matplotlib->-r requirements.txt (line 1)) (0.10.0)\n",
            "Requirement already satisfied: python-dateutil>=2.1 in /usr/local/lib/python3.7/dist-packages (from matplotlib->-r requirements.txt (line 1)) (2.8.1)\n",
            "Requirement already satisfied: pyparsing!=2.0.4,!=2.1.2,!=2.1.6,>=2.0.1 in /usr/local/lib/python3.7/dist-packages (from matplotlib->-r requirements.txt (line 1)) (2.4.7)\n",
            "Requirement already satisfied: kiwisolver>=1.0.1 in /usr/local/lib/python3.7/dist-packages (from matplotlib->-r requirements.txt (line 1)) (1.3.1)\n",
            "Requirement already satisfied: six in /usr/local/lib/python3.7/dist-packages (from nltk->-r requirements.txt (line 2)) (1.15.0)\n"
          ],
          "name": "stdout"
        }
      ]
    },
    {
      "cell_type": "code",
      "metadata": {
        "colab": {
          "base_uri": "https://localhost:8080/"
        },
        "id": "8bjTmzkl7pGH",
        "outputId": "995d63ec-50ad-4baf-8b1c-5937f2e68e81"
      },
      "source": [
        "import nltk\n",
        "nltk.download('punkt')"
      ],
      "execution_count": null,
      "outputs": [
        {
          "output_type": "stream",
          "text": [
            "[nltk_data] Downloading package punkt to /root/nltk_data...\n",
            "[nltk_data]   Unzipping tokenizers/punkt.zip.\n"
          ],
          "name": "stdout"
        },
        {
          "output_type": "execute_result",
          "data": {
            "text/plain": [
              "True"
            ]
          },
          "metadata": {
            "tags": []
          },
          "execution_count": 9
        }
      ]
    },
    {
      "cell_type": "markdown",
      "metadata": {
        "id": "S47apsfe8XP-"
      },
      "source": [
        "# Vocabulary Class"
      ]
    },
    {
      "cell_type": "code",
      "metadata": {
        "id": "mv9EwSFC7pJt"
      },
      "source": [
        "import nltk\n",
        "import pickle\n",
        "import argparse\n",
        "from collections import Counter\n",
        "from pycocotools.coco import COCO\n",
        "\n",
        "class Vocabulary(object):\n",
        "    \"\"\"Simple vocabulary wrapper.\"\"\"\n",
        "    def __init__(self):\n",
        "        self.word2idx = {}\n",
        "        self.idx2word = {}\n",
        "        self.idx = 0\n",
        "\n",
        "    def add_word(self, word):\n",
        "        if not word in self.word2idx:\n",
        "            self.word2idx[word] = self.idx\n",
        "            self.idx2word[self.idx] = word\n",
        "            self.idx += 1\n",
        "\n",
        "    def __call__(self, word):\n",
        "        if not word in self.word2idx:\n",
        "            return self.word2idx['<unk>']\n",
        "        return self.word2idx[word]\n",
        "\n",
        "    def __len__(self):\n",
        "        return len(self.word2idx)"
      ],
      "execution_count": null,
      "outputs": []
    },
    {
      "cell_type": "markdown",
      "metadata": {
        "id": "SG76IA768fLy"
      },
      "source": [
        "# COCO Dataset and data loader"
      ]
    },
    {
      "cell_type": "code",
      "metadata": {
        "colab": {
          "base_uri": "https://localhost:8080/"
        },
        "id": "c57yh4F8XhB8",
        "outputId": "f4f640dc-faba-4d25-c5aa-18c3f10d60bf"
      },
      "source": [
        "!pwd"
      ],
      "execution_count": null,
      "outputs": [
        {
          "output_type": "stream",
          "text": [
            "/content/drive/Shareddrives/btp-group4/Captioning/pytorch-tutorial/tutorials/03-advanced/image_captioning\n"
          ],
          "name": "stdout"
        }
      ]
    },
    {
      "cell_type": "code",
      "metadata": {
        "id": "PgdDorvyMvws"
      },
      "source": [
        "pic=cv2.imread('data/img1.jpg')"
      ],
      "execution_count": null,
      "outputs": []
    },
    {
      "cell_type": "code",
      "metadata": {
        "id": "RYiAardQ8bxm"
      },
      "source": [
        "import torch\n",
        "import torchvision.transforms as transforms\n",
        "import torch.utils.data as data\n",
        "import os\n",
        "import pickle\n",
        "import numpy as np\n",
        "import nltk\n",
        "from PIL import Image\n",
        "from build_vocab import Vocabulary\n",
        "from pycocotools.coco import COCO\n",
        "import cv2\n",
        "\n",
        "class CocoDataset(data.Dataset):\n",
        "    \"\"\"COCO Custom Dataset compatible with torch.utils.data.DataLoader.\"\"\"\n",
        "    def __init__(self, root, json, vocab, transform=None):\n",
        "        \"\"\"Set the path for images, captions and vocabulary wrapper.\n",
        "        \n",
        "        Args:\n",
        "            root: image directory.\n",
        "            json: coco annotation file path.\n",
        "            vocab: vocabulary wrapper.\n",
        "            transform: image transformer.\n",
        "        \"\"\"\n",
        "        self.root = root\n",
        "        self.coco = COCO(json)\n",
        "        self.ids = list(self.coco.anns.keys())\n",
        "        self.vocab = vocab\n",
        "        self.transform = transform\n",
        "\n",
        "    def __getitem__(self, index):\n",
        "        \"\"\"Returns one data pair (image and caption).\"\"\"\n",
        "        coco = self.coco\n",
        "        vocab = self.vocab\n",
        "        ann_id = self.ids[index]\n",
        "        caption = coco.anns[ann_id]['caption']\n",
        "        img_id = coco.anns[ann_id]['image_id']\n",
        "        path = coco.loadImgs(img_id)[0]['file_name']\n",
        "        \n",
        "        # image = Image.open(os.path.join(self.root, path),mode='r').convert('RGB')\n",
        "        # if self.transform is not None:\n",
        "        #     image = self.transform(image)\n",
        "        im = cv2.imread(os.path.join(self.root, path))\n",
        "        #assert im.shape == (224,224,3)\n",
        "        im = np.transpose(im,(2,0,1))\n",
        "        image = torch.tensor(im)\n",
        "        # Convert caption (string) to word ids.\n",
        "        tokens = nltk.tokenize.word_tokenize(str(caption).lower())\n",
        "        caption = []\n",
        "        caption.append(vocab('<start>'))\n",
        "        caption.extend([vocab(token) for token in tokens])\n",
        "        caption.append(vocab('<end>'))\n",
        "        target = torch.Tensor(caption)\n",
        "        return image, target\n",
        "\n",
        "    def __len__(self):\n",
        "        return len(self.ids)\n",
        "\n",
        "\n",
        "def collate_fn(data):\n",
        "    \"\"\"Creates mini-batch tensors from the list of tuples (image, caption).\n",
        "    \n",
        "    We should build custom collate_fn rather than using default collate_fn, \n",
        "    because merging caption (including padding) is not supported in default.\n",
        "    Args:\n",
        "        data: list of tuple (image, caption). \n",
        "            - image: torch tensor of shape (3, 256, 256).\n",
        "            - caption: torch tensor of shape (?); variable length.\n",
        "    Returns:\n",
        "        images: torch tensor of shape (batch_size, 3, 256, 256).\n",
        "        targets: torch tensor of shape (batch_size, padded_length).\n",
        "        lengths: list; valid length for each padded caption.\n",
        "    \"\"\"\n",
        "    # Sort a data list by caption length (descending order).\n",
        "    data.sort(key=lambda x: len(x[1]), reverse=True)\n",
        "    images, captions = zip(*data)\n",
        "\n",
        "    # Merge images (from tuple of 3D tensor to 4D tensor).\n",
        "    images = torch.stack(images, 0)\n",
        "\n",
        "    # Merge captions (from tuple of 1D tensor to 2D tensor).\n",
        "    lengths = [len(cap) for cap in captions]\n",
        "    targets = torch.zeros(len(captions), max(lengths)).long()\n",
        "    for i, cap in enumerate(captions):\n",
        "        end = lengths[i]\n",
        "        targets[i, :end] = cap[:end]        \n",
        "    return images, targets, lengths\n",
        "\n",
        "def get_loader(root, json, vocab, transform, batch_size, shuffle, num_workers):\n",
        "    \"\"\"Returns torch.utils.data.DataLoader for custom coco dataset.\"\"\"\n",
        "    # COCO caption dataset\n",
        "    coco = CocoDataset(root=root,\n",
        "                       json=json,\n",
        "                       vocab=vocab,\n",
        "                       transform=transform)\n",
        "    \n",
        "    # Data loader for COCO dataset\n",
        "    # This will return (images, captions, lengths) for each iteration.\n",
        "    # images: a tensor of shape (batch_size, 3, 224, 224).\n",
        "    # captions: a tensor of shape (batch_size, padded_length).\n",
        "    # lengths: a list indicating valid length for each caption. length is (batch_size).\n",
        "    data_loader = torch.utils.data.DataLoader(dataset=coco, \n",
        "                                              batch_size=batch_size,\n",
        "                                              shuffle=shuffle,\n",
        "                                              num_workers=num_workers,\n",
        "                                              collate_fn=collate_fn)\n",
        "    return data_loader"
      ],
      "execution_count": null,
      "outputs": []
    },
    {
      "cell_type": "code",
      "metadata": {
        "id": "Wm-QvCZp8bzu"
      },
      "source": [
        "import torch\n",
        "import torch.nn as nn\n",
        "import torchvision.models as models\n",
        "from torch.nn.utils.rnn import pack_padded_sequence\n",
        "\n",
        "class EncoderCNN(nn.Module):\n",
        "    def __init__(self, embed_size):\n",
        "        \"\"\"Load the pretrained ResNet-152 and replace top fc layer.\"\"\"\n",
        "        super(EncoderCNN, self).__init__()\n",
        "        resnet = models.resnet152(pretrained=True)\n",
        "        modules = list(resnet.children())[:-1]      # delete the last fc layer.\n",
        "        self.resnet = nn.Sequential(*modules)\n",
        "        self.linear = nn.Linear(resnet.fc.in_features, embed_size)\n",
        "        self.bn = nn.BatchNorm1d(embed_size, momentum=0.01)\n",
        "        \n",
        "    def forward(self, images):\n",
        "        \"\"\"Extract feature vectors from input images.\"\"\"\n",
        "        with torch.no_grad():\n",
        "            features = self.resnet(images)\n",
        "        features = features.reshape(features.size(0), -1)\n",
        "        features = self.bn(self.linear(features))\n",
        "        return features\n",
        "        \n",
        "class DecoderRNN(nn.Module):\n",
        "    def __init__(self, embed_size, hidden_size, vocab_size, num_layers, max_seq_length=20):\n",
        "        \"\"\"Set the hyper-parameters and build the layers.\"\"\"\n",
        "        super(DecoderRNN, self).__init__()\n",
        "        self.embed = nn.Embedding(vocab_size, embed_size)\n",
        "        self.lstm = nn.LSTM(embed_size, hidden_size, num_layers, batch_first=True)\n",
        "        self.linear = nn.Linear(hidden_size, vocab_size)\n",
        "        self.max_seg_length = max_seq_length\n",
        "        \n",
        "    def forward(self, features, captions, lengths):\n",
        "        \"\"\"Decode image feature vectors and generates captions.\"\"\"\n",
        "        embeddings = self.embed(captions)\n",
        "        embeddings = torch.cat((features.unsqueeze(1), embeddings), 1)\n",
        "        packed = pack_padded_sequence(embeddings, lengths, batch_first=True) \n",
        "        hiddens, _ = self.lstm(packed)\n",
        "        outputs = self.linear(hiddens[0])\n",
        "        return outputs\n",
        "    \n",
        "    def sample(self, features, states=None):\n",
        "        \"\"\"Generate captions for given image features using greedy search.\"\"\"\n",
        "        sampled_ids = []\n",
        "        inputs = features.unsqueeze(1)\n",
        "        for i in range(self.max_seg_length):\n",
        "            hiddens, states = self.lstm(inputs, states)          # hiddens: (batch_size, 1, hidden_size)\n",
        "            outputs = self.linear(hiddens.squeeze(1))            # outputs:  (batch_size, vocab_size)\n",
        "            _, predicted = outputs.max(1)                        # predicted: (batch_size)\n",
        "            sampled_ids.append(predicted)\n",
        "            inputs = self.embed(predicted)                       # inputs: (batch_size, embed_size)\n",
        "            inputs = inputs.unsqueeze(1)                         # inputs: (batch_size, 1, embed_size)\n",
        "        sampled_ids = torch.stack(sampled_ids, 1)                # sampled_ids: (batch_size, max_seq_length)\n",
        "        return sampled_ids"
      ],
      "execution_count": null,
      "outputs": []
    },
    {
      "cell_type": "markdown",
      "metadata": {
        "id": "VkqFlyqC_V-A"
      },
      "source": [
        "# Hyper Parameters"
      ]
    },
    {
      "cell_type": "code",
      "metadata": {
        "id": "xGtxciaZ8b2J"
      },
      "source": [
        "model_path='models/test7'\n",
        "crop_size=224\n",
        "vocab_path='data/vocab.pkl'\n",
        "image_dir='data/resized2014'\n",
        "caption_path='data/annotations/captions_train2014 org.json'\n",
        "encoder_path='models/encoder-5-3000.pkl'\n",
        "decoder_path='models/decoder-5-3000.pkl'\n",
        "log_step=10\n",
        "save_step=100\n",
        "embed_size=256\n",
        "hidden_size=512\n",
        "num_layers=1\n",
        "num_epochs=2\n",
        "batch_size=1\n",
        "num_workers=2\n",
        "learning_rate=0.001\n",
        "pan_threshold = 0.5\n",
        "load_step = 16000"
      ],
      "execution_count": null,
      "outputs": []
    },
    {
      "cell_type": "code",
      "metadata": {
        "id": "_1ENU4D-LUlV"
      },
      "source": [
        "import json"
      ],
      "execution_count": null,
      "outputs": []
    },
    {
      "cell_type": "code",
      "metadata": {
        "id": "iJGo2SXkLZp6"
      },
      "source": [
        "f = open(caption_path,)\n",
        "data = json.load(f)"
      ],
      "execution_count": null,
      "outputs": []
    },
    {
      "cell_type": "code",
      "metadata": {
        "id": "HOrOm93jLdbg"
      },
      "source": [
        "data['annotations']"
      ],
      "execution_count": null,
      "outputs": []
    },
    {
      "cell_type": "markdown",
      "metadata": {
        "id": "iEL3JuiJX7D2"
      },
      "source": [
        "# Building Models"
      ]
    },
    {
      "cell_type": "code",
      "metadata": {
        "colab": {
          "base_uri": "https://localhost:8080/"
        },
        "id": "_cSn48Jj8b4h",
        "outputId": "53f19e2a-dd4e-4ff3-fe46-5eb2c9b41a36"
      },
      "source": [
        "# Device configuration\n",
        "device = torch.device('cuda' if torch.cuda.is_available() else 'cpu')\n",
        "\n",
        "if not os.path.exists(model_path):\n",
        "        os.makedirs(model_path)\n",
        "\n",
        "# Image preprocessing, normalization for the pretrained resnet\n",
        "transform = transforms.Compose([transforms.RandomCrop(crop_size),transforms.RandomHorizontalFlip(), transforms.ToTensor(), transforms.Normalize((0.485, 0.456, 0.406), (0.229, 0.224, 0.225))])\n",
        "\n",
        "# Load vocabulary wrapper\n",
        "with open(vocab_path, 'rb') as f:\n",
        "    vocab = pickle.load(f)\n",
        "\n",
        "# Build data loader\n",
        "data_loader = get_loader(image_dir, caption_path, vocab, \n",
        "                          transform, batch_size,\n",
        "                          shuffle=True, num_workers=num_workers) \n",
        "\n",
        "# Build the models\n",
        "cfg = get_cfg()\n",
        "cfg.merge_from_file(model_zoo.get_config_file(\"COCO-PanopticSegmentation/panoptic_fpn_R_50_1x.yaml\"))\n",
        "cfg.MODEL.ROI_HEADS.SCORE_THRESH_TEST = pan_threshold\n",
        "cfg.MODEL.WEIGHTS = model_zoo.get_checkpoint_url(\"COCO-PanopticSegmentation/panoptic_fpn_R_50_1x.yaml\")\n",
        "pan_seg_model = DefaultPredictor(cfg)\n",
        "\n",
        "from detectron2.modeling import build_model\n",
        "new_full_model = build_model(cfg)\n",
        "new_full_model.eval()\n",
        "# im3 = torch.randn(1,3,800,1280)\n",
        "# im3 = im3.cuda()\n",
        "type(new_full_model)\n",
        "# isinstance(new_full_model,detectron2.modeling.meta_arch.GeneralizedRCNN)\n",
        "\n",
        "# encoder = EncoderCNN(embed_size).to(device)\n",
        "# decoder = DecoderRNN(embed_size, hidden_size, len(vocab), num_layers).to(device)\n",
        "\n",
        "# # Loss and optimizer\n",
        "# criterion = nn.CrossEntropyLoss()\n",
        "# params = list(decoder.parameters()) + list(encoder.linear.parameters()) + list(encoder.bn.parameters())\n",
        "# optimizer = torch.optim.Adam(params, lr=learning_rate)\n",
        "\n"
      ],
      "execution_count": null,
      "outputs": [
        {
          "output_type": "stream",
          "text": [
            "loading annotations into memory...\n",
            "Done (t=0.48s)\n",
            "creating index...\n",
            "index created!\n"
          ],
          "name": "stdout"
        },
        {
          "output_type": "stream",
          "text": [
            "model_final_dbfeb4.pkl: 184MB [00:03, 47.3MB/s]                           \n"
          ],
          "name": "stderr"
        },
        {
          "output_type": "execute_result",
          "data": {
            "text/plain": [
              "detectron2.modeling.meta_arch.panoptic_fpn.PanopticFPN"
            ]
          },
          "metadata": {
            "tags": []
          },
          "execution_count": 19
        }
      ]
    },
    {
      "cell_type": "markdown",
      "metadata": {
        "id": "LB_O7TOQRpmD"
      },
      "source": [
        "# Graph Attention Network"
      ]
    },
    {
      "cell_type": "code",
      "metadata": {
        "colab": {
          "base_uri": "https://localhost:8080/"
        },
        "id": "US7tFz5wRwLz",
        "outputId": "431bf721-c743-4528-8d5d-f5c09ee66f25"
      },
      "source": [
        "!pip install dgl\n",
        "from dgl.nn.pytorch import GATConv\n",
        "import time"
      ],
      "execution_count": null,
      "outputs": [
        {
          "output_type": "stream",
          "text": [
            "Collecting dgl\n",
            "\u001b[?25l  Downloading https://files.pythonhosted.org/packages/71/c4/ce24841375cf4393787dbf9a645e271c19a03d2d9a0e5770b08ba76bcfde/dgl-0.6.1-cp37-cp37m-manylinux1_x86_64.whl (4.4MB)\n",
            "\u001b[K     |████████████████████████████████| 4.4MB 8.5MB/s \n",
            "\u001b[?25hRequirement already satisfied: scipy>=1.1.0 in /usr/local/lib/python3.7/dist-packages (from dgl) (1.4.1)\n",
            "Requirement already satisfied: networkx>=2.1 in /usr/local/lib/python3.7/dist-packages (from dgl) (2.5.1)\n",
            "Requirement already satisfied: requests>=2.19.0 in /usr/local/lib/python3.7/dist-packages (from dgl) (2.23.0)\n",
            "Requirement already satisfied: numpy>=1.14.0 in /usr/local/lib/python3.7/dist-packages (from dgl) (1.19.5)\n",
            "Requirement already satisfied: decorator<5,>=4.3 in /usr/local/lib/python3.7/dist-packages (from networkx>=2.1->dgl) (4.4.2)\n",
            "Requirement already satisfied: urllib3!=1.25.0,!=1.25.1,<1.26,>=1.21.1 in /usr/local/lib/python3.7/dist-packages (from requests>=2.19.0->dgl) (1.24.3)\n",
            "Requirement already satisfied: certifi>=2017.4.17 in /usr/local/lib/python3.7/dist-packages (from requests>=2.19.0->dgl) (2020.12.5)\n",
            "Requirement already satisfied: idna<3,>=2.5 in /usr/local/lib/python3.7/dist-packages (from requests>=2.19.0->dgl) (2.10)\n",
            "Requirement already satisfied: chardet<4,>=3.0.2 in /usr/local/lib/python3.7/dist-packages (from requests>=2.19.0->dgl) (3.0.4)\n",
            "Installing collected packages: dgl\n",
            "Successfully installed dgl-0.6.1\n",
            "Setting the default backend to \"pytorch\". You can change it in the ~/.dgl/config.json file or export the DGLBACKEND environment variable.  Valid options are: pytorch, mxnet, tensorflow (all lowercase)\n"
          ],
          "name": "stdout"
        },
        {
          "output_type": "stream",
          "text": [
            "DGL backend not selected or invalid.  Assuming PyTorch for now.\n",
            "Using backend: pytorch\n"
          ],
          "name": "stderr"
        }
      ]
    },
    {
      "cell_type": "code",
      "metadata": {
        "id": "cHUR_lIeRzXW"
      },
      "source": [
        "# import torch\n",
        "# import torch.nn as nn\n",
        "# import torch.nn.functional as F\n",
        "# import dgl\n",
        "# import dgl.function as fn\n",
        "# from dgl import DGLGraph\n",
        "\n",
        "\n",
        "# class GATLayer(nn.Module):\n",
        "#     def __init__(self, g, in_dim, out_dim):\n",
        "#         super(GATLayer, self).__init__()\n",
        "#         self.g = g\n",
        "#         # equation (1)\n",
        "#         self.fc = nn.Linear(in_dim, out_dim, bias=False)\n",
        "#         # equation (2)\n",
        "#         self.attn_fc = nn.Linear(2 * out_dim, 1, bias=False)\n",
        "#         self.reset_parameters()\n",
        "\n",
        "#     def reset_parameters(self):\n",
        "#         \"\"\"Reinitialize learnable parameters.\"\"\"\n",
        "#         gain = nn.init.calculate_gain('relu')\n",
        "#         nn.init.xavier_normal_(self.fc.weight, gain=gain)\n",
        "#         nn.init.xavier_normal_(self.attn_fc.weight, gain=gain)\n",
        "\n",
        "#     def edge_attention(self, edges):\n",
        "#         # edge UDF for equation (2)\n",
        "#         z2 = torch.cat([edges.src['z'], edges.dst['z']], dim=1)\n",
        "#         a = self.attn_fc(z2)\n",
        "#         return {'e': F.leaky_relu(a)}\n",
        "\n",
        "#     def message_func(self, edges):\n",
        "#         # message UDF for equation (3) & (4)\n",
        "#         return {'z': edges.src['z'], 'e': edges.data['e']}\n",
        "\n",
        "#     def reduce_func(self, nodes):\n",
        "#         # reduce UDF for equation (3) & (4)\n",
        "#         # equation (3)\n",
        "#         alpha = F.softmax(nodes.mailbox['e'], dim=1)\n",
        "#         # equation (4)\n",
        "#         h = torch.sum(alpha * nodes.mailbox['z'], dim=1)\n",
        "#         return {'h': h}\n",
        "\n",
        "#     def forward(self, h):\n",
        "#         # equation (1)\n",
        "#         z = self.fc(h)\n",
        "#         self.g.ndata['z'] = z\n",
        "#         # equation (2)\n",
        "#         self.g.apply_edges(self.edge_attention)\n",
        "#         # equation (3) & (4)\n",
        "#         self.g.update_all(self.message_func, self.reduce_func)\n",
        "#         return self.g.ndata.pop('h')"
      ],
      "execution_count": null,
      "outputs": []
    },
    {
      "cell_type": "code",
      "metadata": {
        "id": "yJOM5gpFR4so"
      },
      "source": [
        "# class MultiHeadGATLayer(nn.Module):\n",
        "#     def __init__(self, g, in_dim, out_dim, num_heads, merge='cat'):\n",
        "#         super(MultiHeadGATLayer, self).__init__()\n",
        "#         self.heads = nn.ModuleList()\n",
        "#         for i in range(num_heads):\n",
        "#             self.heads.append(GATLayer(g, in_dim, out_dim))\n",
        "#         self.merge = merge\n",
        "\n",
        "#     def forward(self, h):\n",
        "#         head_outs = [attn_head(h) for attn_head in self.heads]\n",
        "#         if self.merge == 'cat':\n",
        "#             # concat on the output feature dimension (dim=1)\n",
        "#             return torch.cat(head_outs, dim=1)\n",
        "#         else:\n",
        "#             # merge using average\n",
        "#             return torch.mean(torch.stack(head_outs))"
      ],
      "execution_count": null,
      "outputs": []
    },
    {
      "cell_type": "code",
      "metadata": {
        "id": "jRwrabSvR7JM"
      },
      "source": [
        "import numpy as np\n",
        "import torch\n",
        "import torch.nn as nn\n",
        "import torch.nn.functional as F\n",
        "\n",
        "class GAT(nn.Module):    \n",
        "    \"\"\"\n",
        "    Simple PyTorch Implementation of the Graph Attention layer.\n",
        "    \"\"\"\n",
        "\n",
        "    def __init__(self, in_features, out_features, dropout, alpha, concat=True):\n",
        "        super(GAT, self).__init__()\n",
        "        self.dropout       = dropout        # drop prob = 0.6\n",
        "        self.in_features   = in_features    # \n",
        "        self.out_features  = out_features   # \n",
        "        self.alpha         = alpha          # LeakyReLU with negative input slope, alpha = 0.2\n",
        "        self.concat        = concat         # conacat = True for all layers except the output layer.\n",
        "\n",
        "        # Xavier Initialization of Weights\n",
        "        # Alternatively use weights_init to apply weights of choice \n",
        "        self.W = nn.Parameter(torch.zeros(size=(in_features, out_features)))\n",
        "        nn.init.xavier_uniform_(self.W.data, gain=1.414)\n",
        "        self.a = nn.Parameter(torch.zeros(size=(2*out_features, 1)))\n",
        "        nn.init.xavier_uniform_(self.a.data, gain=1.414)\n",
        "        \n",
        "        # LeakyReLU\n",
        "        self.leakyrelu = nn.LeakyReLU(self.alpha)\n",
        "\n",
        "    def forward(self, input, adj):\n",
        "        # Linear Transformation\n",
        "        h = torch.mm(input, self.W)\n",
        "        N = h.size()[0]\n",
        "\n",
        "        # Attention Mechanism\n",
        "        a_input = torch.cat([h.repeat(1, N).view(N * N, -1), h.repeat(N, 1)], dim=1).view(N, -1, 2 * self.out_features)\n",
        "        e       = self.leakyrelu(torch.matmul(a_input, self.a).squeeze(2))\n",
        "\n",
        "        # Masked Attention\n",
        "        zero_vec  = -9e15*torch.ones_like(e)\n",
        "        attention = torch.where(adj > 0, e, zero_vec)\n",
        "        \n",
        "        attention = F.softmax(attention, dim=1)\n",
        "        attention = F.dropout(attention, self.dropout, training=self.training)\n",
        "        h_prime   = torch.matmul(attention, h)\n",
        "\n",
        "        if self.concat:\n",
        "            return F.elu(h_prime)\n",
        "        else:\n",
        "            return h_prime"
      ],
      "execution_count": null,
      "outputs": []
    },
    {
      "cell_type": "code",
      "metadata": {
        "id": "fhi2BEaWSz_2"
      },
      "source": [
        "# def build_graph(n):\n",
        "#     # while the other for destination endpoints.\n",
        "#     src = list()\n",
        "#     dst = list()\n",
        "#     for i in range(n):\n",
        "#       for j in range(n):\n",
        "#         src.append(i)\n",
        "#     for i in range(n):\n",
        "#       for j in range(n):\n",
        "#         dst.append(j)\n",
        "#     # Edges are directional in DGL; Make them bi-directional.\n",
        "#     u = np.concatenate([src, dst])\n",
        "#     v = np.concatenate([dst, src])\n",
        "#     # Construct a DGLGraph\n",
        "#     return dgl.DGLGraph((u, v))"
      ],
      "execution_count": null,
      "outputs": []
    },
    {
      "cell_type": "markdown",
      "metadata": {
        "id": "5Cd0cnvK1oi2"
      },
      "source": [
        "# Context Gating\n"
      ]
    },
    {
      "cell_type": "code",
      "metadata": {
        "id": "DM9KF_vB1uTo"
      },
      "source": [
        "import torch\n",
        "import torch.nn as nn\n",
        "import torch.nn.functional as F\n",
        "from torch.autograd import Variable\n",
        "\n",
        "def to_contiguous(tensor):\n",
        "\tif tensor.is_contiguous():\n",
        "\t\treturn tensor\n",
        "\telse:\n",
        "\t\treturn tensor.contiguous()\n",
        "\n",
        "\n",
        "# gate functiuon\n",
        "class Gate(nn.Module):\n",
        "\tdef __init__(self, seed, source_size, target_size, drop_lm, simple=True):\n",
        "\t\tsuper(Gate, self).__init__()\n",
        "\t\ttorch.manual_seed(seed)\n",
        "\t\t# torch.cuda.manual_seed(seed)\n",
        "\t\tself.source_size = source_size\n",
        "\t\tself.middle_size = 2 * self.source_size\n",
        "\t\tself.target_size = target_size\n",
        "\t\tself.drop_prob_lm = drop_lm\n",
        "\n",
        "\t\tif simple:\n",
        "\t\t\tself.gate = nn.Sequential(nn.Linear(self.source_size, self.target_size),\n",
        "\t\t\t\t\t\t\t\t\t  nn.ReLU(),\n",
        "\t\t\t\t\t\t\t\t\t  nn.Dropout(self.drop_prob_lm),\n",
        "\t\t\t\t\t\t\t\t\t  )\n",
        "\t\telse:\n",
        "\t\t\tself.gate = nn.Sequential(nn.Linear(self.source_size, self.middle_size),\n",
        "\t\t\t\t\t\t\t\t\t  nn.ReLU(),\n",
        "\t\t\t\t\t\t\t\t\t  nn.Dropout(self.drop_prob_lm),\n",
        "\t\t\t\t\t\t\t\t\t  nn.Linear(self.middle_size, self.target_size),\n",
        "\t\t\t\t\t\t\t\t\t  nn.ReLU(),\n",
        "\t\t\t\t\t\t\t\t\t  nn.Dropout(self.drop_prob_lm)\n",
        "\t\t\t\t\t\t\t\t\t  )\n",
        "\n",
        "\tdef forward(self, source, target):\n",
        "\t\t''' 使用 source 生成 gate 控制 target '''\n",
        "\t\tgate = self.gate(source)\n",
        "\t\tnew_target = gate * target + target\n",
        "\t\t# new_target = gate * target\n",
        "\t\treturn new_target\n",
        "\n",
        "\n",
        "# fusion function\n",
        "class Fusion(nn.Module):\n",
        "\t''' concate tow features and use MLP to fuse them. '''\n",
        "\tdef __init__(self, seed, feat_size1, feat_size2, fusion_size, drop_lm=0.5, activity=None):\n",
        "\t\tsuper(Fusion, self).__init__()\n",
        "\t\ttorch.manual_seed(seed)\n",
        "\t\ttorch.cuda.manual_seed(seed)\n",
        "\t\tself.feat_size1 = feat_size1\n",
        "\t\tself.feat_size2 = feat_size2\n",
        "\t\tself.fusion_size = fusion_size\n",
        "\t\tself.drop_prob_lm = drop_lm\n",
        "\t\tself.activity = activity\n",
        "\n",
        "\t\tself.late_fusion = nn.Sequential(nn.Linear(self.feat_size1 + self.feat_size2, self.fusion_size),\n",
        "\t\t\t\t\t\t\t\t\t\t getattr(nn, self.activity)(),\n",
        "\t\t\t\t\t\t\t\t\t\t nn.Dropout(self.drop_prob_lm)\n",
        "\t\t\t\t\t\t\t\t\t\t )\n",
        "\n",
        "\tdef forward(self, feats1, feats2, feat_mask=None):  # feats (m ,28, featsize1) feat_mask(m, 28)\n",
        "\t\tassert feats1.shape[0] == feats2.shape[0] and feats1.shape[1] == feats2.shape[1], 'Size Error: sizes of feats1 and feats2 are not match.'\n",
        "\t\tfeats = to_contiguous(torch.cat([feats1, feats2], -1))  # (m, 28, feat_size+featsize2)\n",
        "\t\tfeats = self.late_fusion(feats)\n",
        "\t\treturn feats\n"
      ],
      "execution_count": null,
      "outputs": []
    },
    {
      "cell_type": "code",
      "metadata": {
        "id": "LkQ00qT71uXB"
      },
      "source": [
        ""
      ],
      "execution_count": null,
      "outputs": []
    },
    {
      "cell_type": "markdown",
      "metadata": {
        "id": "g9FYv6z6SMCM"
      },
      "source": [
        "# Train"
      ]
    },
    {
      "cell_type": "code",
      "metadata": {
        "id": "NwAY265ocpl4"
      },
      "source": [
        "from detectron2.layers import ROIAlign"
      ],
      "execution_count": null,
      "outputs": []
    },
    {
      "cell_type": "code",
      "metadata": {
        "id": "c-vjmzN65COg"
      },
      "source": [
        "# g = build_graph(20)"
      ],
      "execution_count": null,
      "outputs": []
    },
    {
      "cell_type": "code",
      "metadata": {
        "id": "33UcVBvXiwjw"
      },
      "source": [
        " net = GAT(12544,200,0.6,0.2,False)"
      ],
      "execution_count": null,
      "outputs": []
    },
    {
      "cell_type": "code",
      "metadata": {
        "id": "FgaWhGhC1My2"
      },
      "source": [
        "net_stuff = GAT(12544,200,0.6,0.2,False)"
      ],
      "execution_count": null,
      "outputs": []
    },
    {
      "cell_type": "code",
      "metadata": {
        "id": "9WMEEGxHQsFL"
      },
      "source": [
        "roi_align = ROIAlign((7,7),1,2)"
      ],
      "execution_count": null,
      "outputs": []
    },
    {
      "cell_type": "code",
      "metadata": {
        "id": "1zZcWSBj_tgn"
      },
      "source": [
        "lnr = torch.nn.Linear(4000, 128)\n",
        "lnr_stuff = torch.nn.Linear(2000, 128)\n",
        "lnr_encoder = torch.nn.Linear(256,128)"
      ],
      "execution_count": null,
      "outputs": []
    },
    {
      "cell_type": "code",
      "metadata": {
        "id": "FmEXDs2s1b2a"
      },
      "source": [
        "gate_things = Gate(2, 128, 128, 0.2, True)\n",
        "gate_stuff = Gate(3, 128, 128, 0.2, True)\n",
        "fusion_var = Fusion(4,128,128,128,0.5,\"ReLU\")\\\n",
        "\n",
        "gate_things = gate_things.cuda()\n",
        "gate_stuff = gate_stuff.cuda()\n",
        "fusion_var = fusion_var.cuda()"
      ],
      "execution_count": null,
      "outputs": []
    },
    {
      "cell_type": "code",
      "metadata": {
        "colab": {
          "base_uri": "https://localhost:8080/",
          "height": 82,
          "referenced_widgets": [
            "0916e162430343829c1b69ffb8d43efe",
            "d85621792e9547349dad0784fe9b3195",
            "13ce32abd934445abba8006ed407de10",
            "a1691f4f54224182be1ff71028eb69cc",
            "d38a232d939c49f8aed3e1d1148b4d69",
            "ed606deb2b8c44eb96e5846d4813aea3",
            "460eb3a5c3534a38bcc52b1fa051a076",
            "85b1d9a808c544fa86c97e39baa611ee"
          ]
        },
        "id": "_wikhwH4hYsn",
        "outputId": "a89323ce-bf64-416b-f12c-ae8c98639ea2"
      },
      "source": [
        "encoder = EncoderCNN(embed_size).to(device)\n",
        "decoder = DecoderRNN(embed_size, hidden_size, len(vocab), num_layers).to(device)"
      ],
      "execution_count": null,
      "outputs": [
        {
          "output_type": "stream",
          "text": [
            "Downloading: \"https://download.pytorch.org/models/resnet152-b121ed2d.pth\" to /root/.cache/torch/checkpoints/resnet152-b121ed2d.pth\n"
          ],
          "name": "stderr"
        },
        {
          "output_type": "display_data",
          "data": {
            "application/vnd.jupyter.widget-view+json": {
              "model_id": "0916e162430343829c1b69ffb8d43efe",
              "version_minor": 0,
              "version_major": 2
            },
            "text/plain": [
              "HBox(children=(FloatProgress(value=0.0, max=241530880.0), HTML(value='')))"
            ]
          },
          "metadata": {
            "tags": []
          }
        },
        {
          "output_type": "stream",
          "text": [
            "\n"
          ],
          "name": "stdout"
        }
      ]
    },
    {
      "cell_type": "code",
      "metadata": {
        "colab": {
          "base_uri": "https://localhost:8080/"
        },
        "id": "KrDyPfCH3zGm",
        "outputId": "9cd8c2a4-ff3e-4b0e-93dc-d05f394633d7"
      },
      "source": [
        "encoder.load_state_dict(torch.load(encoder_path))"
      ],
      "execution_count": null,
      "outputs": [
        {
          "output_type": "execute_result",
          "data": {
            "text/plain": [
              "<All keys matched successfully>"
            ]
          },
          "metadata": {
            "tags": []
          },
          "execution_count": 35
        }
      ]
    },
    {
      "cell_type": "code",
      "metadata": {
        "id": "32uR2rla4baP"
      },
      "source": [
        "encoder.eval()"
      ],
      "execution_count": null,
      "outputs": []
    },
    {
      "cell_type": "code",
      "metadata": {
        "id": "cKfrTHZdLYBS"
      },
      "source": [
        "# Loss and optimizer\n",
        "criterion = nn.CrossEntropyLoss()\n",
        "params = list(decoder.parameters()) + list(net.parameters())+list(lnr.parameters())+list(roi_align.parameters())+list(encoder.linear.parameters()) + list(net_stuff.parameters()) + list(lnr_stuff.parameters()) + list(gate_things.parameters()) + list(gate_stuff.parameters()) + list(fusion_var.parameters())\n",
        "optimizer = torch.optim.Adam(params, lr=learning_rate)"
      ],
      "execution_count": null,
      "outputs": []
    },
    {
      "cell_type": "code",
      "metadata": {
        "id": "tUnnrjxj24Ud"
      },
      "source": [
        "# Image preprocessing, normalization for the pretrained resnet\n",
        "transform = transforms.Compose([transforms.RandomCrop(crop_size),transforms.RandomHorizontalFlip(), transforms.ToTensor(), transforms.Normalize((0.485, 0.456, 0.406), (0.229, 0.224, 0.225))])"
      ],
      "execution_count": null,
      "outputs": []
    },
    {
      "cell_type": "code",
      "metadata": {
        "id": "am5xUofvy7U6",
        "colab": {
          "base_uri": "https://localhost:8080/"
        },
        "outputId": "9de90537-c799-43ef-b933-330c6ded69c3"
      },
      "source": [
        "decoder.train()\n",
        "lnr.train()\n",
        "lnr_stuff.train()\n",
        "net.train()\n",
        "net_stuff.train()\n",
        "roi_align.train()\n",
        "gate_things.train()\n",
        "gate_stuff.train()\n",
        "fusion_var.train()"
      ],
      "execution_count": null,
      "outputs": [
        {
          "output_type": "execute_result",
          "data": {
            "text/plain": [
              "Fusion(\n",
              "  (late_fusion): Sequential(\n",
              "    (0): Linear(in_features=256, out_features=128, bias=True)\n",
              "    (1): ReLU()\n",
              "    (2): Dropout(p=0.5, inplace=False)\n",
              "  )\n",
              ")"
            ]
          },
          "metadata": {
            "tags": []
          },
          "execution_count": 39
        }
      ]
    },
    {
      "cell_type": "code",
      "metadata": {
        "colab": {
          "base_uri": "https://localhost:8080/"
        },
        "id": "tsD1qy8p8b6Z",
        "outputId": "4e9cee68-fa66-4786-eaeb-e609f6a97f9a"
      },
      "source": [
        "# Train the models\n",
        "total_step = len(data_loader)\n",
        "print(total_step)\n",
        "for epoch in range(num_epochs):\n",
        "    print(\"Epoch no: \",epoch+1)\n",
        "    for iteration, (images, captions, lengths) in enumerate(data_loader):\n",
        "        # Set mini-batch dataset\n",
        "        # if i == load_step-1:\n",
        "        #   load_step = -1\n",
        "        # if i < load_step:\n",
        "        #   continue \n",
        "        # print(i)\n",
        "        images = images.to(device)\n",
        "        captions = captions.to(device)\n",
        "        targets = pack_padded_sequence(captions, lengths, batch_first=True)[0]\n",
        "        # captions= torch.cat([captions,captions],dim=0)\n",
        "        # targets= torch.cat([targets,targets],dim=0)\n",
        "        # lengths.append(lengths[0])\n",
        "\n",
        "        np_img = images[0]\n",
        "\n",
        "        t=np.array(np_img.cpu())\n",
        "        img = np.transpose(t,(1,2,0))\n",
        "        img = cv2.cvtColor(img, cv2.COLOR_BGR2RGB)\n",
        "        image = Image.fromarray(img)\n",
        "\n",
        "        if transform is not None:\n",
        "          image = transform(image).unsqueeze(0)\n",
        "        \n",
        "        features1 = encoder(image.cuda())\n",
        "        features1 = lnr_encoder(features1.cpu())\n",
        "\n",
        "        image=image[0]\n",
        "        # ----------------------------------detectron prediction --------------------------------------\n",
        "        np_img = np_img.cpu().numpy()\n",
        "        np_img = np.transpose(np_img,(1,2,0))\n",
        "        outputs = pan_seg_model(np_img)\n",
        "\n",
        "        # ------------------------------------ back bone extraction-----------------------------------\n",
        "        height, width = image.shape[:2]\n",
        "        #image = torch.as_tensor(image.astype(\"float32\").transpose(2, 0, 1))\n",
        "        batched_inputs = [{\"image\": image, \"height\": height, \"width\": width}]\n",
        "\n",
        "        \"\"\"\n",
        "        Normalize, pad and batch the input images.\n",
        "        \"\"\"\n",
        "        from detectron2.structures import ImageList\n",
        "        images = [x[\"image\"].to(new_full_model.device) for x in batched_inputs]\n",
        "        images = [(x - new_full_model.pixel_mean) / new_full_model.pixel_std for x in images]\n",
        "        images = ImageList.from_tensors(images, new_full_model.backbone.size_divisibility)\n",
        "        features = new_full_model.backbone(images.tensor)\n",
        "\n",
        "        # extract things features\n",
        "        #  ----------------------------------------------------------------------\n",
        "        b=outputs['instances'].pred_boxes\n",
        "        b1=b.tensor\n",
        "\n",
        "        n=outputs['instances'].pred_boxes.tensor.shape[0]\n",
        "        if n==0 or n>20:\n",
        "          continue\n",
        "        A=torch.zeros(20,4)\n",
        "        #c=np.array(outputs['instances'].pred_classes.cpu())\n",
        "        for k in range(n):\n",
        "          A[k,:]=b1[k]\n",
        "\n",
        "        b2=A/4\n",
        "        b3=A/8\n",
        "        b4=A/16\n",
        "        b5=A/32\n",
        "\n",
        "        n=20\n",
        "\n",
        "        z = torch.zeros(n,1)\n",
        "        rois2 = torch.cat((z,b2.cpu()),dim=1)\n",
        "        rois3 = torch.cat((z,b3.cpu()),dim=1)\n",
        "        rois4 = torch.cat((z,b4.cpu()),dim=1)\n",
        "        rois5 = torch.cat((z,b5.cpu()),dim=1)\n",
        "\n",
        "        rois2=rois2.cuda()\n",
        "        rois3=rois3.cuda()\n",
        "        rois4=rois4.cuda()\n",
        "        rois5=rois5.cuda()\n",
        "\n",
        "        roi_out2 = roi_align(features[\"p2\"],rois2)\n",
        "        roi_out3 = roi_align(features[\"p3\"],rois3)\n",
        "        roi_out4 = roi_align(features[\"p4\"],rois4)\n",
        "        roi_out5 = roi_align(features[\"p5\"],rois5)\n",
        "\n",
        "        roi2=roi_out2.reshape((n,12544))\n",
        "        roi3=roi_out3.reshape((n,12544))\n",
        "        roi4=roi_out4.reshape((n,12544))\n",
        "        roi5=roi_out5.reshape((n,12544))\n",
        "\n",
        "        roi2=roi2+roi3+roi4+roi5\n",
        "        # ------------------------------------------------------------------------------\n",
        "        # extract stuff features\n",
        "        # ------------------------------------------------------------------------------\n",
        "        b_stuff=[]\n",
        "        for item in outputs['panoptic_seg'][1]:\n",
        "          if item['isthing']==False:\n",
        "            x0,y0=(-1,-1)\n",
        "            x1,y1=(-1,-1)\n",
        "            for i in range(outputs['panoptic_seg'][0].shape[0]):\n",
        "              for j in range(outputs['panoptic_seg'][0].shape[1]-1,0,-1):\n",
        "                if outputs['panoptic_seg'][0][i][j]==item['id']:\n",
        "                  if x0==-1:\n",
        "                    x0,y0=(i,j)\n",
        "                  x1,y1=(i,j)\n",
        "            b_stuff.append([x1,y1,x0,y0])       \n",
        "        b_stuff = torch.tensor(b_stuff)\n",
        "        # ------------------- roi align to stuff features -------------------------------\n",
        "        n_stuff = b_stuff.shape[0]\n",
        "        if n_stuff==0 or n_stuff>10:\n",
        "          continue\n",
        "        A_stuff=torch.zeros(10,4)\n",
        "        #c=np.array(outputs['instances'].pred_classes.cpu())\n",
        "        for k in range(n_stuff):\n",
        "          A[k,:]=b_stuff[k]\n",
        "\n",
        "        b2_stuff=A_stuff/4\n",
        "        b3_stuff=A_stuff/8\n",
        "        b4_stuff=A_stuff/16\n",
        "        b5_stuff=A_stuff/32\n",
        "\n",
        "        n_stuff=10\n",
        "        z = torch.zeros(n_stuff,1)\n",
        "        rois2_stuff = torch.cat((z,b2_stuff.cpu()),dim=1)\n",
        "        rois3_stuff = torch.cat((z,b3_stuff.cpu()),dim=1)\n",
        "        rois4_stuff = torch.cat((z,b4_stuff.cpu()),dim=1)\n",
        "        rois5_stuff = torch.cat((z,b5_stuff.cpu()),dim=1)\n",
        "\n",
        "        rois2_stuff=rois2_stuff.cuda()\n",
        "        rois3_stuff=rois3_stuff.cuda()\n",
        "        rois4_stuff=rois4_stuff.cuda()\n",
        "        rois5_stuff=rois5_stuff.cuda()\n",
        "\n",
        "        roi_out2_stuff = roi_align(features[\"p2\"],rois2_stuff)\n",
        "        roi_out3_stuff = roi_align(features[\"p3\"],rois3_stuff)\n",
        "        roi_out4_stuff = roi_align(features[\"p4\"],rois4_stuff)\n",
        "        roi_out5_stuff = roi_align(features[\"p5\"],rois5_stuff)\n",
        "\n",
        "        roi2_stuff=roi_out2_stuff.reshape((n_stuff,12544))\n",
        "        roi3_stuff=roi_out3_stuff.reshape((n_stuff,12544))\n",
        "        roi4_stuff=roi_out4_stuff.reshape((n_stuff,12544))\n",
        "        roi5_stuff=roi_out5_stuff.reshape((n_stuff,12544))\n",
        "\n",
        "        roi2_stuff=roi2_stuff+roi3_stuff+roi4_stuff+roi5_stuff\n",
        "\n",
        "        # --------------------------- graph for things ----------------------------------------------------\n",
        "        # g.ndata['feat']=roi2.cpu()\n",
        "        features_things = roi2.cpu()\n",
        "        \n",
        "        adj = torch.ones(20,20)\n",
        "        logits = net(features_things,adj)\n",
        "        t=logits.flatten()\n",
        "        t=t.unsqueeze(0)\n",
        "        # features of things to linear\n",
        "        features_things=lnr(t)\n",
        "        features_things=features_things.cuda()\n",
        "        # ------------------------ pass stuff featurs to graph -----------------------------------------\n",
        "\n",
        "        features_stuff = roi2_stuff.cpu()\n",
        "        adj1 = torch.ones(10,10)\n",
        "        logits_stuff = net_stuff(features_stuff,adj1)\n",
        "        t_stuff=logits_stuff.flatten()\n",
        "        t_stuff=t_stuff.unsqueeze(0)\n",
        "        # features of stuff to linear\n",
        "        features_stuff=lnr_stuff(t_stuff)\n",
        "        features_stuff=features_stuff.cuda()\n",
        "        # gating should be done\n",
        "                \n",
        "        features_things_prime = gate_things(features_stuff,features_things)\n",
        "        features_stuff_prime = gate_stuff(features_things,features_stuff)\n",
        "        final_res = fusion_var(features_things_prime,features_stuff_prime)\n",
        "        final_res = final_res.cuda()\n",
        "\n",
        "        features=torch.cat([final_res,features1.cuda()],dim=1)\n",
        "        \n",
        "        outputs = decoder(features, captions, lengths)\n",
        "        loss = criterion(outputs, targets)\n",
        "        \n",
        "        decoder.zero_grad()\n",
        "        lnr.zero_grad()\n",
        "        lnr_stuff.zero_grad()\n",
        "        net.zero_grad()\n",
        "        net_stuff.zero_grad()\n",
        "        roi_align.zero_grad()\n",
        "        encoder.zero_grad()\n",
        "        gate_things.zero_grad()\n",
        "        gate_stuff.zero_grad()\n",
        "        fusion_var.zero_grad()\n",
        "        \n",
        "        loss.backward()\n",
        "        optimizer.step()\n",
        "        \n",
        "        # Print log info\n",
        "        if iteration % log_step == 0:\n",
        "            print('Epoch [{}/{}], Step [{}/{}], Loss: {:.4f}, Perplexity: {:5.4f}'\n",
        "                  .format(epoch, num_epochs, iteration, total_step, loss.item(), np.exp(loss.item()))) \n",
        "            \n",
        "        # Save the model checkpoints\n",
        "        if (iteration+1) % save_step == 0:\n",
        "            torch.save(decoder.state_dict(), os.path.join(\n",
        "                model_path, 'decoder-{}-{}.ckpt'.format(epoch+1, iteration+1)))\n",
        "            torch.save(lnr.state_dict(), os.path.join(\n",
        "                model_path, 'linear-{}-{}.ckpt'.format(epoch+1, iteration+1)))\n",
        "            torch.save(lnr_stuff.state_dict(), os.path.join(\n",
        "                model_path, 'linear_stuff-{}-{}.ckpt'.format(epoch+1, iteration+1)))\n",
        "            torch.save(roi_align.state_dict(), os.path.join(\n",
        "                model_path, 'roi-{}-{}.ckpt'.format(epoch+1, iteration+1)))\n",
        "            torch.save(net.state_dict(), os.path.join(\n",
        "                model_path, 'net-{}-{}.ckpt'.format(epoch+1, iteration+1)))\n",
        "            torch.save(net_stuff.state_dict(), os.path.join(\n",
        "                model_path, 'net_stuff-{}-{}.ckpt'.format(epoch+1, iteration+1)))\n",
        "            torch.save(encoder.state_dict(), os.path.join(\n",
        "                model_path, 'encoder-{}-{}.ckpt'.format(epoch+1, iteration+1)))\n",
        "            torch.save(lnr_encoder.state_dict(), os.path.join(\n",
        "                model_path, 'linear_encoder-{}-{}.ckpt'.format(epoch+1, iteration+1)))\n",
        "            torch.save(gate_things.state_dict(), os.path.join(\n",
        "                model_path, 'gate_things-{}-{}.ckpt'.format(epoch+1, iteration+1)))\n",
        "            torch.save(gate_stuff.state_dict(), os.path.join(\n",
        "                model_path, 'gate_stuff-{}-{}.ckpt'.format(epoch+1, iteration+1)))\n",
        "            torch.save(fusion_var.state_dict(), os.path.join(\n",
        "                model_path, 'fusion_var-{}-{}.ckpt'.format(epoch+1, iteration+1)))\n",
        "            torch.save(optimizer.state_dict(), os.path.join(\n",
        "                model_path, 'optimizer-{}-{}.ckpt'.format(epoch+1, iteration+1)))"
      ],
      "execution_count": null,
      "outputs": [
        {
          "output_type": "stream",
          "text": [
            "221807\n",
            "Epoch no:  1\n",
            "Epoch [0/2], Step [10/221807], Loss: 8.7549, Perplexity: 6341.6378\n",
            "Epoch [0/2], Step [20/221807], Loss: 6.7035, Perplexity: 815.2890\n",
            "Epoch [0/2], Step [30/221807], Loss: 5.7867, Perplexity: 325.9197\n",
            "Epoch [0/2], Step [50/221807], Loss: 6.6112, Perplexity: 743.3567\n",
            "Epoch [0/2], Step [60/221807], Loss: 5.2955, Perplexity: 199.4420\n",
            "Epoch [0/2], Step [70/221807], Loss: 6.0485, Perplexity: 423.4759\n",
            "Epoch [0/2], Step [80/221807], Loss: 5.5202, Perplexity: 249.6927\n",
            "Epoch [0/2], Step [90/221807], Loss: 6.5171, Perplexity: 676.5858\n",
            "Epoch [0/2], Step [100/221807], Loss: 6.3759, Perplexity: 587.5178\n",
            "Epoch [0/2], Step [110/221807], Loss: 5.4036, Perplexity: 222.2050\n",
            "Epoch [0/2], Step [120/221807], Loss: 6.2640, Perplexity: 525.2924\n",
            "Epoch [0/2], Step [130/221807], Loss: 4.9157, Perplexity: 136.4189\n",
            "Epoch [0/2], Step [140/221807], Loss: 5.5075, Perplexity: 246.5347\n",
            "Epoch [0/2], Step [160/221807], Loss: 4.3523, Perplexity: 77.6571\n",
            "Epoch [0/2], Step [170/221807], Loss: 4.8445, Perplexity: 127.0413\n",
            "Epoch [0/2], Step [180/221807], Loss: 6.1991, Perplexity: 492.2969\n",
            "Epoch [0/2], Step [190/221807], Loss: 5.3691, Perplexity: 214.6646\n",
            "Epoch [0/2], Step [200/221807], Loss: 5.6737, Perplexity: 291.1209\n",
            "Epoch [0/2], Step [210/221807], Loss: 5.3358, Perplexity: 207.6347\n",
            "Epoch [0/2], Step [220/221807], Loss: 5.1503, Perplexity: 172.4813\n",
            "Epoch [0/2], Step [230/221807], Loss: 4.2263, Perplexity: 68.4610\n",
            "Epoch [0/2], Step [240/221807], Loss: 5.0872, Perplexity: 161.9391\n",
            "Epoch [0/2], Step [250/221807], Loss: 3.0521, Perplexity: 21.1603\n",
            "Epoch [0/2], Step [260/221807], Loss: 5.6486, Perplexity: 283.9024\n",
            "Epoch [0/2], Step [270/221807], Loss: 3.7567, Perplexity: 42.8074\n",
            "Epoch [0/2], Step [280/221807], Loss: 2.4948, Perplexity: 12.1195\n",
            "Epoch [0/2], Step [290/221807], Loss: 5.7340, Perplexity: 309.1931\n",
            "Epoch [0/2], Step [300/221807], Loss: 5.0622, Perplexity: 157.9320\n",
            "Epoch [0/2], Step [310/221807], Loss: 6.2739, Perplexity: 530.5443\n",
            "Epoch [0/2], Step [320/221807], Loss: 5.7334, Perplexity: 309.0221\n",
            "Epoch [0/2], Step [330/221807], Loss: 4.8300, Perplexity: 125.2053\n",
            "Epoch [0/2], Step [340/221807], Loss: 5.6030, Perplexity: 271.2271\n",
            "Epoch [0/2], Step [350/221807], Loss: 5.5829, Perplexity: 265.8370\n",
            "Epoch [0/2], Step [360/221807], Loss: 2.7975, Perplexity: 16.4029\n",
            "Epoch [0/2], Step [390/221807], Loss: 4.4174, Perplexity: 82.8839\n",
            "Epoch [0/2], Step [400/221807], Loss: 4.5445, Perplexity: 94.1177\n",
            "Epoch [0/2], Step [410/221807], Loss: 5.6914, Perplexity: 296.3097\n",
            "Epoch [0/2], Step [420/221807], Loss: 3.7608, Perplexity: 42.9825\n",
            "Epoch [0/2], Step [440/221807], Loss: 3.3348, Perplexity: 28.0728\n",
            "Epoch [0/2], Step [450/221807], Loss: 4.2469, Perplexity: 69.8878\n",
            "Epoch [0/2], Step [470/221807], Loss: 4.6434, Perplexity: 103.9006\n",
            "Epoch [0/2], Step [480/221807], Loss: 3.6384, Perplexity: 38.0328\n",
            "Epoch [0/2], Step [490/221807], Loss: 3.4568, Perplexity: 31.7141\n",
            "Epoch [0/2], Step [500/221807], Loss: 3.6317, Perplexity: 37.7757\n",
            "Epoch [0/2], Step [520/221807], Loss: 5.3824, Perplexity: 217.5362\n",
            "Epoch [0/2], Step [530/221807], Loss: 4.5860, Perplexity: 98.1057\n",
            "Epoch [0/2], Step [540/221807], Loss: 4.5705, Perplexity: 96.5900\n",
            "Epoch [0/2], Step [550/221807], Loss: 3.3349, Perplexity: 28.0747\n",
            "Epoch [0/2], Step [560/221807], Loss: 3.9282, Perplexity: 50.8130\n",
            "Epoch [0/2], Step [570/221807], Loss: 3.0254, Perplexity: 20.6020\n",
            "Epoch [0/2], Step [580/221807], Loss: 4.2978, Perplexity: 73.5402\n",
            "Epoch [0/2], Step [600/221807], Loss: 4.4170, Perplexity: 82.8461\n",
            "Epoch [0/2], Step [610/221807], Loss: 4.4778, Perplexity: 88.0365\n",
            "Epoch [0/2], Step [620/221807], Loss: 4.6063, Perplexity: 100.1106\n",
            "Epoch [0/2], Step [640/221807], Loss: 5.9200, Perplexity: 372.3993\n",
            "Epoch [0/2], Step [650/221807], Loss: 3.6658, Perplexity: 39.0877\n",
            "Epoch [0/2], Step [660/221807], Loss: 3.0933, Perplexity: 22.0492\n",
            "Epoch [0/2], Step [680/221807], Loss: 5.5333, Perplexity: 252.9783\n",
            "Epoch [0/2], Step [690/221807], Loss: 4.5569, Perplexity: 95.2850\n",
            "Epoch [0/2], Step [700/221807], Loss: 3.3488, Perplexity: 28.4684\n",
            "Epoch [0/2], Step [730/221807], Loss: 5.7644, Perplexity: 318.7587\n",
            "Epoch [0/2], Step [740/221807], Loss: 3.6575, Perplexity: 38.7644\n",
            "Epoch [0/2], Step [750/221807], Loss: 3.8843, Perplexity: 48.6336\n",
            "Epoch [0/2], Step [770/221807], Loss: 4.8477, Perplexity: 127.4493\n",
            "Epoch [0/2], Step [780/221807], Loss: 4.0734, Perplexity: 58.7548\n",
            "Epoch [0/2], Step [800/221807], Loss: 5.6748, Perplexity: 291.4331\n",
            "Epoch [0/2], Step [820/221807], Loss: 3.7002, Perplexity: 40.4555\n",
            "Epoch [0/2], Step [830/221807], Loss: 3.7147, Perplexity: 41.0458\n",
            "Epoch [0/2], Step [840/221807], Loss: 2.9418, Perplexity: 18.9502\n",
            "Epoch [0/2], Step [850/221807], Loss: 4.8438, Perplexity: 126.9448\n",
            "Epoch [0/2], Step [860/221807], Loss: 3.9971, Perplexity: 54.4409\n",
            "Epoch [0/2], Step [870/221807], Loss: 3.7640, Perplexity: 43.1209\n",
            "Epoch [0/2], Step [880/221807], Loss: 5.2092, Perplexity: 182.9409\n",
            "Epoch [0/2], Step [890/221807], Loss: 2.8071, Perplexity: 16.5611\n",
            "Epoch [0/2], Step [900/221807], Loss: 3.8972, Perplexity: 49.2648\n",
            "Epoch [0/2], Step [930/221807], Loss: 3.5067, Perplexity: 33.3387\n",
            "Epoch [0/2], Step [940/221807], Loss: 5.2896, Perplexity: 198.2699\n",
            "Epoch [0/2], Step [950/221807], Loss: 3.9546, Perplexity: 52.1723\n",
            "Epoch [0/2], Step [960/221807], Loss: 4.6627, Perplexity: 105.9165\n",
            "Epoch [0/2], Step [970/221807], Loss: 3.9745, Perplexity: 53.2249\n",
            "Epoch [0/2], Step [980/221807], Loss: 3.1640, Perplexity: 23.6657\n",
            "Epoch [0/2], Step [990/221807], Loss: 4.3679, Perplexity: 78.8786\n",
            "Epoch [0/2], Step [1000/221807], Loss: 2.6505, Perplexity: 14.1607\n",
            "Epoch [0/2], Step [1010/221807], Loss: 3.5070, Perplexity: 33.3490\n",
            "Epoch [0/2], Step [1020/221807], Loss: 3.7774, Perplexity: 43.7039\n",
            "Epoch [0/2], Step [1030/221807], Loss: 4.0061, Perplexity: 54.9298\n",
            "Epoch [0/2], Step [1040/221807], Loss: 4.8581, Perplexity: 128.7815\n",
            "Epoch [0/2], Step [1050/221807], Loss: 3.4524, Perplexity: 31.5770\n",
            "Epoch [0/2], Step [1060/221807], Loss: 5.3109, Perplexity: 202.5319\n",
            "Epoch [0/2], Step [1070/221807], Loss: 5.6421, Perplexity: 282.0608\n",
            "Epoch [0/2], Step [1080/221807], Loss: 3.4808, Perplexity: 32.4860\n",
            "Epoch [0/2], Step [1090/221807], Loss: 5.5158, Perplexity: 248.5800\n",
            "Epoch [0/2], Step [1100/221807], Loss: 3.6549, Perplexity: 38.6643\n",
            "Epoch [0/2], Step [1110/221807], Loss: 3.8349, Perplexity: 46.2911\n",
            "Epoch [0/2], Step [1120/221807], Loss: 3.8578, Perplexity: 47.3597\n"
          ],
          "name": "stdout"
        }
      ]
    },
    {
      "cell_type": "code",
      "metadata": {
        "id": "oKJijvsJ41hE"
      },
      "source": [
        "features1"
      ],
      "execution_count": null,
      "outputs": []
    },
    {
      "cell_type": "code",
      "metadata": {
        "id": "FsbOuXQFlgWf"
      },
      "source": [
        ""
      ],
      "execution_count": null,
      "outputs": []
    },
    {
      "cell_type": "code",
      "metadata": {
        "colab": {
          "base_uri": "https://localhost:8080/"
        },
        "id": "iNxtb3nVuiZT",
        "outputId": "dde2b9e7-6488-4078-e913-3d5b9285d3b0"
      },
      "source": [
        "features.shape"
      ],
      "execution_count": null,
      "outputs": [
        {
          "output_type": "execute_result",
          "data": {
            "text/plain": [
              "torch.Size([1, 346])"
            ]
          },
          "metadata": {
            "tags": []
          },
          "execution_count": 95
        }
      ]
    },
    {
      "cell_type": "code",
      "metadata": {
        "colab": {
          "base_uri": "https://localhost:8080/"
        },
        "id": "tQ1zsT8opAKj",
        "outputId": "6cf5daa4-7ca6-458a-a8de-f7426ad3ce70"
      },
      "source": [
        "x=torch.randn((1,128))\n",
        "y=torch.randn((1,128))\n",
        "z=torch.cat([x,y],dim=1)\n",
        "z.shape"
      ],
      "execution_count": null,
      "outputs": [
        {
          "output_type": "execute_result",
          "data": {
            "text/plain": [
              "torch.Size([1, 256])"
            ]
          },
          "metadata": {
            "tags": []
          },
          "execution_count": 78
        }
      ]
    },
    {
      "cell_type": "code",
      "metadata": {
        "colab": {
          "base_uri": "https://localhost:8080/"
        },
        "id": "vB76bk575S8h",
        "outputId": "b026e331-8f8d-4259-b09b-009785e15400"
      },
      "source": [
        "captions.shape"
      ],
      "execution_count": null,
      "outputs": [
        {
          "output_type": "execute_result",
          "data": {
            "text/plain": [
              "torch.Size([2, 12])"
            ]
          },
          "metadata": {
            "tags": []
          },
          "execution_count": 43
        }
      ]
    },
    {
      "cell_type": "code",
      "metadata": {
        "colab": {
          "base_uri": "https://localhost:8080/"
        },
        "id": "gCtfsZbEuzhg",
        "outputId": "9fc2c262-b736-4160-f596-492785a41eb4"
      },
      "source": [
        "targets.shape"
      ],
      "execution_count": null,
      "outputs": [
        {
          "output_type": "execute_result",
          "data": {
            "text/plain": [
              "torch.Size([24])"
            ]
          },
          "metadata": {
            "tags": []
          },
          "execution_count": 48
        }
      ]
    },
    {
      "cell_type": "code",
      "metadata": {
        "colab": {
          "base_uri": "https://localhost:8080/"
        },
        "id": "cwze4qPNu_CI",
        "outputId": "771dbcda-447e-42f8-94f4-a0794031cd61"
      },
      "source": [
        "outputs.shape"
      ],
      "execution_count": null,
      "outputs": [
        {
          "output_type": "execute_result",
          "data": {
            "text/plain": [
              "torch.Size([30, 9956])"
            ]
          },
          "metadata": {
            "tags": []
          },
          "execution_count": 46
        }
      ]
    },
    {
      "cell_type": "code",
      "metadata": {
        "colab": {
          "base_uri": "https://localhost:8080/"
        },
        "id": "GbkP9shd5yCp",
        "outputId": "b0d9f0a8-61b2-4511-ca78-298f765e0bab"
      },
      "source": [
        "lengths"
      ],
      "execution_count": null,
      "outputs": [
        {
          "output_type": "execute_result",
          "data": {
            "text/plain": [
              "[12, 12]"
            ]
          },
          "metadata": {
            "tags": []
          },
          "execution_count": 44
        }
      ]
    },
    {
      "cell_type": "code",
      "metadata": {
        "id": "Dr-MZdCdWdfI"
      },
      "source": [
        "outputs=pan_seg_model(pic)"
      ],
      "execution_count": null,
      "outputs": []
    },
    {
      "cell_type": "code",
      "metadata": {
        "id": "i1SyRXuXi4Kq"
      },
      "source": [
        "outputs['instances']"
      ],
      "execution_count": null,
      "outputs": []
    },
    {
      "cell_type": "code",
      "metadata": {
        "id": "sIYTD2WDbj9E"
      },
      "source": [
        "np.array(outputs['instances'].pred_classes.cpu())"
      ],
      "execution_count": null,
      "outputs": []
    },
    {
      "cell_type": "code",
      "metadata": {
        "id": "2Z59c-BdbmYo"
      },
      "source": [
        "outputs['instances'].pred_boxes.tensor.shape[0]"
      ],
      "execution_count": null,
      "outputs": []
    },
    {
      "cell_type": "code",
      "metadata": {
        "id": "VKc7GcS2b5tj"
      },
      "source": [
        "b=outputs['instances'].pred_boxes\n",
        "b1=b.tensor\n",
        "\n",
        "n=outputs['instances'].pred_boxes.tensor.shape[0]\n",
        "if n<20:\n",
        "  x=torch.zeros(20-n,4).cuda()\n",
        "  b1=torch.cat((b1,x),dim=0)"
      ],
      "execution_count": null,
      "outputs": []
    },
    {
      "cell_type": "code",
      "metadata": {
        "id": "icuXn24MkRDe"
      },
      "source": [
        "b1.shape"
      ],
      "execution_count": null,
      "outputs": []
    },
    {
      "cell_type": "markdown",
      "metadata": {
        "id": "JjSzDYGYFf4s"
      },
      "source": [
        "#Testing"
      ]
    },
    {
      "cell_type": "code",
      "metadata": {
        "colab": {
          "base_uri": "https://localhost:8080/"
        },
        "id": "4IYnzXfFk7dN",
        "outputId": "b6c97cf2-b594-4436-99e6-17b49910ea75"
      },
      "source": [
        "net.load_state_dict(torch.load('models/test6/net-1-1000.ckpt'))\n",
        "net_stuff.load_state_dict(torch.load('models/test6/net_stuff-1-1000.ckpt'))\n",
        "lnr.load_state_dict(torch.load('models/test6/linear-1-1000.ckpt'))\n",
        "lnr_stuff.load_state_dict(torch.load('models/test6/linear_stuff-1-1000.ckpt'))\n",
        "roi_align.load_state_dict(torch.load('models/test6/roi-1-1000.ckpt'))\n",
        "decoder.load_state_dict(torch.load(decoder_path))\n",
        "encoder.load_state_dict(torch.load('models/test6/encoder-1-1000.ckpt'))\n",
        "lnr_encoder.load_state_dict(torch.load('models/test6/linear_encoder-1-1000.ckpt'))\n",
        "optimizer.load_state_dict(torch.load('models/test6/optimizer-1-1000.ckpt'))\n",
        "gate_things.load_state_dict(torch.load('models/test6/gate_things-1-1000.ckpt'))\n",
        "gate_stuff.load_state_dict(torch.load('models/test6/gate_stuff-1-1000.ckpt'))\n",
        "fusion_var.load_state_dict(torch.load('models/test6/fusion_var-1-1000.ckpt'))"
      ],
      "execution_count": null,
      "outputs": [
        {
          "output_type": "execute_result",
          "data": {
            "text/plain": [
              "<All keys matched successfully>"
            ]
          },
          "metadata": {
            "tags": []
          },
          "execution_count": 61
        }
      ]
    },
    {
      "cell_type": "code",
      "metadata": {
        "colab": {
          "base_uri": "https://localhost:8080/"
        },
        "id": "33pRRkD8NYTC",
        "outputId": "3b61b3c7-7d84-4789-b883-9afc21ceb5d3"
      },
      "source": [
        "encoder.eval()\n",
        "decoder.eval()\n",
        "lnr.eval()\n",
        "lnr_stuff.eval()\n",
        "net.eval()\n",
        "net_stuff.eval()\n",
        "roi_align.eval()\n",
        "gate_things.eval()\n",
        "gate_stuff.eval()\n",
        "fusion_var.eval()"
      ],
      "execution_count": null,
      "outputs": [
        {
          "output_type": "execute_result",
          "data": {
            "text/plain": [
              "Fusion(\n",
              "  (late_fusion): Sequential(\n",
              "    (0): Linear(in_features=256, out_features=128, bias=True)\n",
              "    (1): ReLU()\n",
              "    (2): Dropout(p=0.5, inplace=False)\n",
              "  )\n",
              ")"
            ]
          },
          "metadata": {
            "tags": []
          },
          "execution_count": 62
        }
      ]
    },
    {
      "cell_type": "code",
      "metadata": {
        "id": "hYypKtFWCHcf"
      },
      "source": [
        "im = cv2.imread('data/img4.jpg')\n",
        "pic = im\n",
        "pil_image=Image.open('data/img4.jpg')\n",
        "target_caption=\"<start> A man playing tennis . <end>\"\n",
        "# if transform is not None:\n",
        "#     image = transform(pil_image).unsqueeze(0)\n",
        "# features1 = encoder(image.cuda())\n",
        "# features1 = lnr_encoder(features1.cpu())\n",
        "\n",
        "# #assert im.shape == (224,224,3)\n",
        "im = np.transpose(im,(2,0,1))\n",
        "np_img = torch.tensor(im)\n",
        "np_img = np_img.cpu().numpy()\n",
        "np_img = np.transpose(np_img,(1,2,0))\n",
        "outputs = pan_seg_model(np_img)"
      ],
      "execution_count": null,
      "outputs": []
    },
    {
      "cell_type": "code",
      "metadata": {
        "id": "xBrHj0VtA4-G"
      },
      "source": [
        "if transform is not None:\n",
        "  image = transform(pil_image).unsqueeze(0)\n",
        "\n",
        "features1 = encoder(image.cuda())\n",
        "features1 = lnr_encoder(features1.cpu())\n",
        "\n",
        "image=image[0]\n",
        "# ------------------------------------ back bone extraction-----------------------------------\n",
        "height, width = image.shape[:2]\n",
        "#image = torch.as_tensor(image.astype(\"float32\").transpose(2, 0, 1))\n",
        "batched_inputs = [{\"image\": image, \"height\": height, \"width\": width}]\n",
        "\n",
        "\"\"\"\n",
        "Normalize, pad and batch the input images.\n",
        "\"\"\"\n",
        "from detectron2.structures import ImageList\n",
        "images = [x[\"image\"].to(new_full_model.device) for x in batched_inputs]\n",
        "images = [(x - new_full_model.pixel_mean) / new_full_model.pixel_std for x in images]\n",
        "images = ImageList.from_tensors(images, new_full_model.backbone.size_divisibility)\n",
        "features = new_full_model.backbone(images.tensor)\n",
        "\n",
        "# extract things features\n",
        "#  ----------------------------------------------------------------------\n",
        "b=outputs['instances'].pred_boxes\n",
        "b1=b.tensor\n",
        "\n",
        "n=outputs['instances'].pred_boxes.tensor.shape[0]\n",
        "if n==0 or n>20:\n",
        "  pass\n",
        "A=torch.zeros(20,4)\n",
        "#c=np.array(outputs['instances'].pred_classes.cpu())\n",
        "for k in range(n):\n",
        "  A[k,:]=b1[k]\n",
        "\n",
        "b2=A/4\n",
        "b3=A/8\n",
        "b4=A/16\n",
        "b5=A/32\n",
        "\n",
        "n=20\n",
        "\n",
        "z = torch.zeros(n,1)\n",
        "rois2 = torch.cat((z,b2.cpu()),dim=1)\n",
        "rois3 = torch.cat((z,b3.cpu()),dim=1)\n",
        "rois4 = torch.cat((z,b4.cpu()),dim=1)\n",
        "rois5 = torch.cat((z,b5.cpu()),dim=1)\n",
        "\n",
        "rois2=rois2.cuda()\n",
        "rois3=rois3.cuda()\n",
        "rois4=rois4.cuda()\n",
        "rois5=rois5.cuda()\n",
        "\n",
        "roi_out2 = roi_align(features[\"p2\"],rois2)\n",
        "roi_out3 = roi_align(features[\"p3\"],rois3)\n",
        "roi_out4 = roi_align(features[\"p4\"],rois4)\n",
        "roi_out5 = roi_align(features[\"p5\"],rois5)\n",
        "\n",
        "roi2=roi_out2.reshape((n,12544))\n",
        "roi3=roi_out3.reshape((n,12544))\n",
        "roi4=roi_out4.reshape((n,12544))\n",
        "roi5=roi_out5.reshape((n,12544))\n",
        "\n",
        "roi2=roi2+roi3+roi4+roi5\n",
        "# ------------------------------------------------------------------------------\n",
        "# extract stuff features\n",
        "# ------------------------------------------------------------------------------\n",
        "b_stuff=[]\n",
        "for item in outputs['panoptic_seg'][1]:\n",
        "  if item['isthing']==False:\n",
        "    x0,y0=(-1,-1)\n",
        "    x1,y1=(-1,-1)\n",
        "    for i in range(outputs['panoptic_seg'][0].shape[0]):\n",
        "      for j in range(outputs['panoptic_seg'][0].shape[1]-1,0,-1):\n",
        "        if outputs['panoptic_seg'][0][i][j]==item['id']:\n",
        "          if x0==-1:\n",
        "            x0,y0=(i,j)\n",
        "          x1,y1=(i,j)\n",
        "    b_stuff.append([x1,y1,x0,y0])       \n",
        "b_stuff = torch.tensor(b_stuff)\n",
        "# ------------------- roi align to stuff features -------------------------------\n",
        "n_stuff = b_stuff.shape[0]\n",
        "if n_stuff==0 or n_stuff>10:\n",
        "  pass\n",
        "A_stuff=torch.zeros(10,4)\n",
        "#c=np.array(outputs['instances'].pred_classes.cpu())\n",
        "for k in range(n_stuff):\n",
        "  A[k,:]=b_stuff[k]\n",
        "\n",
        "b2_stuff=A_stuff/4\n",
        "b3_stuff=A_stuff/8\n",
        "b4_stuff=A_stuff/16\n",
        "b5_stuff=A_stuff/32\n",
        "\n",
        "n_stuff=10\n",
        "z = torch.zeros(n_stuff,1)\n",
        "rois2_stuff = torch.cat((z,b2_stuff.cpu()),dim=1)\n",
        "rois3_stuff = torch.cat((z,b3_stuff.cpu()),dim=1)\n",
        "rois4_stuff = torch.cat((z,b4_stuff.cpu()),dim=1)\n",
        "rois5_stuff = torch.cat((z,b5_stuff.cpu()),dim=1)\n",
        "\n",
        "rois2_stuff=rois2_stuff.cuda()\n",
        "rois3_stuff=rois3_stuff.cuda()\n",
        "rois4_stuff=rois4_stuff.cuda()\n",
        "rois5_stuff=rois5_stuff.cuda()\n",
        "\n",
        "roi_out2_stuff = roi_align(features[\"p2\"],rois2_stuff)\n",
        "roi_out3_stuff = roi_align(features[\"p3\"],rois3_stuff)\n",
        "roi_out4_stuff = roi_align(features[\"p4\"],rois4_stuff)\n",
        "roi_out5_stuff = roi_align(features[\"p5\"],rois5_stuff)\n",
        "\n",
        "roi2_stuff=roi_out2_stuff.reshape((n_stuff,12544))\n",
        "roi3_stuff=roi_out3_stuff.reshape((n_stuff,12544))\n",
        "roi4_stuff=roi_out4_stuff.reshape((n_stuff,12544))\n",
        "roi5_stuff=roi_out5_stuff.reshape((n_stuff,12544))\n",
        "\n",
        "roi2_stuff=roi2_stuff+roi3_stuff+roi4_stuff+roi5_stuff\n",
        "\n",
        "# --------------------------- graph for things ----------------------------------------------------\n",
        "# g.ndata['feat']=roi2.cpu()\n",
        "features_things = roi2.cpu()\n",
        "\n",
        "adj = torch.ones(20,20)\n",
        "logits = net(features_things,adj)\n",
        "t=logits.flatten()\n",
        "t=t.unsqueeze(0)\n",
        "# features of things to linear\n",
        "features_things=lnr(t)\n",
        "features_things=features_things.cuda()\n",
        "# ------------------------ pass stuff featurs to graph -----------------------------------------\n",
        "\n",
        "features_stuff = roi2_stuff.cpu()\n",
        "adj1 = torch.ones(10,10)\n",
        "logits_stuff = net_stuff(features_stuff,adj1)\n",
        "t_stuff=logits_stuff.flatten()\n",
        "t_stuff=t_stuff.unsqueeze(0)\n",
        "# features of stuff to linear\n",
        "features_stuff=lnr_stuff(t_stuff)\n",
        "features_stuff=features_stuff.cuda()\n",
        "# gating should be done\n",
        "        \n",
        "features_things_prime = gate_things(features_stuff,features_things)\n",
        "features_stuff_prime = gate_stuff(features_things,features_stuff)\n",
        "final_res = fusion_var(features_things_prime,features_stuff_prime)\n",
        "final_res = final_res.cuda()\n",
        "\n",
        "features=torch.cat([final_res,features1.cuda()],dim=1)\n"
      ],
      "execution_count": null,
      "outputs": []
    },
    {
      "cell_type": "code",
      "metadata": {
        "colab": {
          "base_uri": "https://localhost:8080/",
          "height": 518
        },
        "id": "sNy_gxXqEmXg",
        "outputId": "5f726c93-e5e2-4795-c7f9-792ce76d9c2b"
      },
      "source": [
        "from nltk.translate.bleu_score import sentence_bleu\n",
        "from nltk.translate.bleu_score import corpus_bleu\n",
        "sampled_ids = decoder.sample(features)        # (1, max_seq_length) -> (max_seq_length)\n",
        "sampled_ids = sampled_ids[0].cpu().numpy()          # (1, max_seq_length) -> (max_seq_length)\n",
        "# Convert word_ids to words\n",
        "sampled_caption = []\n",
        "for word_id in sampled_ids:\n",
        "    word = vocab.idx2word[word_id]\n",
        "    sampled_caption.append(word)\n",
        "    if word == '<end>':\n",
        "        break\n",
        "sentence = ' '.join(sampled_caption)\n",
        "# sentence=\" . <end>\"\n",
        "sampled_caption=[sampled_caption]\n",
        "# Print out the image and the generated caption\n",
        "print('BLEU SCORE:'+ str(sentence_bleu(sampled_caption,target_caption.split(' '),weights=(1,0,0,0))))\n",
        "print('Target Caption:'+ target_caption)\n",
        "print('Predicted Caption:'+sentence)\n",
        "v = Visualizer(np_img, MetadataCatalog.get(cfg.DATASETS.TRAIN[0]), scale=1.5)\n",
        "v = v.draw_panoptic_seg_predictions(outputs['panoptic_seg'][0].cpu(),outputs['panoptic_seg'][1])\n",
        "# v.draw_instance_predictions(outputs[\"instances\"].to(\"cpu\"))\n",
        "cv2_imshow(v.get_image())"
      ],
      "execution_count": null,
      "outputs": [
        {
          "output_type": "stream",
          "text": [
            "/usr/local/lib/python3.7/dist-packages/nltk/translate/bleu_score.py:490: UserWarning: \n",
            "Corpus/Sentence contains 0 counts of 3-gram overlaps.\n",
            "BLEU scores might be undesirable; use SmoothingFunction().\n",
            "  warnings.warn(_msg)\n"
          ],
          "name": "stderr"
        },
        {
          "output_type": "stream",
          "text": [
            "BLEU SCORE:0.21470779802151024\n",
            "Target Caption:<start> A man playing tennis . <end>\n",
            "Predicted Caption:standing bowl full of green and white . <end>\n"
          ],
          "name": "stdout"
        },
        {
          "output_type": "display_data",
          "data": {
            "image/png": "[encoded data removed]",
            "text/plain": [
              "<PIL.Image.Image image mode=RGB size=384x384 at 0x7FB046DF1250>"
            ]
          },
          "metadata": {
            "tags": []
          }
        }
      ]
    },
    {
      "cell_type": "markdown",
      "metadata": {
        "id": "AfpMPVJ6CH6s"
      },
      "source": [
        "#Model Summary"
      ]
    },
    {
      "cell_type": "code",
      "metadata": {
        "id": "ishQZdklCLnO"
      },
      "source": [
        "from torchsummary import summary"
      ],
      "execution_count": null,
      "outputs": []
    },
    {
      "cell_type": "code",
      "metadata": {
        "colab": {
          "base_uri": "https://localhost:8080/"
        },
        "id": "GGwKoW8UFAvS",
        "outputId": "f1c9379e-c223-4cd3-c981-72a1a30229c8"
      },
      "source": [
        "print(net)"
      ],
      "execution_count": null,
      "outputs": [
        {
          "output_type": "stream",
          "text": [
            "GAT(\n",
            "  (leakyrelu): LeakyReLU(negative_slope=0.2)\n",
            ")\n"
          ],
          "name": "stdout"
        }
      ]
    },
    {
      "cell_type": "code",
      "metadata": {
        "colab": {
          "base_uri": "https://localhost:8080/"
        },
        "id": "aj_taf5QSxPQ",
        "outputId": "ba8df078-16ee-4d24-acfa-9b141605893b"
      },
      "source": [
        "print(decoder)"
      ],
      "execution_count": null,
      "outputs": [
        {
          "output_type": "stream",
          "text": [
            "DecoderRNN(\n",
            "  (embed): Embedding(9956, 256)\n",
            "  (lstm): LSTM(256, 512, batch_first=True)\n",
            "  (linear): Linear(in_features=512, out_features=9956, bias=True)\n",
            ")\n"
          ],
          "name": "stdout"
        }
      ]
    },
    {
      "cell_type": "code",
      "metadata": {
        "colab": {
          "base_uri": "https://localhost:8080/"
        },
        "id": "zI39SX3wSzco",
        "outputId": "d838589e-df98-40c5-b4ee-8100b11bae51"
      },
      "source": [
        "print(fusion_var)"
      ],
      "execution_count": null,
      "outputs": [
        {
          "output_type": "stream",
          "text": [
            "Fusion(\n",
            "  (late_fusion): Sequential(\n",
            "    (0): Linear(in_features=256, out_features=128, bias=True)\n",
            "    (1): ReLU()\n",
            "    (2): Dropout(p=0.5, inplace=False)\n",
            "  )\n",
            ")\n"
          ],
          "name": "stdout"
        }
      ]
    },
    {
      "cell_type": "code",
      "metadata": {
        "colab": {
          "base_uri": "https://localhost:8080/"
        },
        "id": "UBZHmxzIS2h2",
        "outputId": "73cd3064-72c6-49d2-c808-06bfa2e97ed5"
      },
      "source": [
        "print(gate_stuff)"
      ],
      "execution_count": null,
      "outputs": [
        {
          "output_type": "stream",
          "text": [
            "Gate(\n",
            "  (gate): Sequential(\n",
            "    (0): Linear(in_features=128, out_features=128, bias=True)\n",
            "    (1): ReLU()\n",
            "    (2): Dropout(p=0.2, inplace=False)\n",
            "  )\n",
            ")\n"
          ],
          "name": "stdout"
        }
      ]
    },
    {
      "cell_type": "code",
      "metadata": {
        "colab": {
          "base_uri": "https://localhost:8080/"
        },
        "id": "IIRHmeMcS9YV",
        "outputId": "3d0e9f9f-d0ac-4d51-91c3-81c32cc9a2c9"
      },
      "source": [
        "print(gate_things)"
      ],
      "execution_count": null,
      "outputs": [
        {
          "output_type": "stream",
          "text": [
            "Gate(\n",
            "  (gate): Sequential(\n",
            "    (0): Linear(in_features=128, out_features=128, bias=True)\n",
            "    (1): ReLU()\n",
            "    (2): Dropout(p=0.2, inplace=False)\n",
            "  )\n",
            ")\n"
          ],
          "name": "stdout"
        }
      ]
    },
    {
      "cell_type": "code",
      "metadata": {
        "colab": {
          "base_uri": "https://localhost:8080/"
        },
        "id": "6xBjypcdA6h2",
        "outputId": "2c0e8331-e101-4979-c627-0199a157b6d6"
      },
      "source": [
        "for name, param in net.named_parameters():\n",
        "    print(name, '\\tWeights=',param.data.shape , '\\tParameters=',param.nelement())"
      ],
      "execution_count": null,
      "outputs": [
        {
          "output_type": "stream",
          "text": [
            "W \tWeights= torch.Size([12544, 200]) \tParameters= 2508800\n",
            "a \tWeights= torch.Size([400, 1]) \tParameters= 400\n"
          ],
          "name": "stdout"
        }
      ]
    },
    {
      "cell_type": "code",
      "metadata": {
        "colab": {
          "base_uri": "https://localhost:8080/"
        },
        "id": "FvUxH_7mCZ_i",
        "outputId": "5e339d44-01c4-41df-a7d2-51760c167a6a"
      },
      "source": [
        "print(decoder)"
      ],
      "execution_count": null,
      "outputs": [
        {
          "output_type": "stream",
          "text": [
            "DecoderRNN(\n",
            "  (embed): Embedding(9956, 256)\n",
            "  (lstm): LSTM(256, 512, batch_first=True)\n",
            "  (linear): Linear(in_features=512, out_features=9956, bias=True)\n",
            ")\n"
          ],
          "name": "stdout"
        }
      ]
    },
    {
      "cell_type": "code",
      "metadata": {
        "colab": {
          "base_uri": "https://localhost:8080/"
        },
        "id": "045gqKBJCsYH",
        "outputId": "97b9ff69-a887-408c-a6a0-8a00d1eec8c8"
      },
      "source": [
        "for name, param in decoder.named_parameters():\n",
        "    print(name, '\\tWeights=',param.data.shape , '\\tParameters=',param.nelement())"
      ],
      "execution_count": null,
      "outputs": [
        {
          "output_type": "stream",
          "text": [
            "embed.weight \tWeights= torch.Size([9956, 256]) \tParameters= 2548736\n",
            "lstm.weight_ih_l0 \tWeights= torch.Size([2048, 256]) \tParameters= 524288\n",
            "lstm.weight_hh_l0 \tWeights= torch.Size([2048, 512]) \tParameters= 1048576\n",
            "lstm.bias_ih_l0 \tWeights= torch.Size([2048]) \tParameters= 2048\n",
            "lstm.bias_hh_l0 \tWeights= torch.Size([2048]) \tParameters= 2048\n",
            "linear.weight \tWeights= torch.Size([9956, 512]) \tParameters= 5097472\n",
            "linear.bias \tWeights= torch.Size([9956]) \tParameters= 9956\n"
          ],
          "name": "stdout"
        }
      ]
    },
    {
      "cell_type": "code",
      "metadata": {
        "colab": {
          "base_uri": "https://localhost:8080/"
        },
        "id": "AbMLfTqJTWSE",
        "outputId": "54ab5746-830f-4978-caf7-01d326c70fdf"
      },
      "source": [
        "for name, param in fusion_var.named_parameters():\n",
        "    print(name, '\\tWeights=',param.data.shape , '\\tParameters=',param.nelement())"
      ],
      "execution_count": null,
      "outputs": [
        {
          "output_type": "stream",
          "text": [
            "late_fusion.0.weight \tWeights= torch.Size([128, 256]) \tParameters= 32768\n",
            "late_fusion.0.bias \tWeights= torch.Size([128]) \tParameters= 128\n"
          ],
          "name": "stdout"
        }
      ]
    },
    {
      "cell_type": "code",
      "metadata": {
        "colab": {
          "base_uri": "https://localhost:8080/"
        },
        "id": "HxV75evxDbp6",
        "outputId": "ef6e4763-46d8-4c7a-a4d5-ecb6d5633586"
      },
      "source": [
        "print(roi_align)"
      ],
      "execution_count": null,
      "outputs": [
        {
          "output_type": "stream",
          "text": [
            "ROIAlign(output_size=(7, 7), spatial_scale=1, sampling_ratio=2, aligned=True)\n"
          ],
          "name": "stdout"
        }
      ]
    },
    {
      "cell_type": "code",
      "metadata": {
        "id": "gdwKHwCzELxF"
      },
      "source": [
        "for name, param in roi_align.named_parameters():\n",
        "    print(name, '\\tWeights=',param.data.shape , '\\tParameters=',param.nelement())"
      ],
      "execution_count": null,
      "outputs": []
    },
    {
      "cell_type": "code",
      "metadata": {
        "colab": {
          "base_uri": "https://localhost:8080/"
        },
        "id": "9b8yJm_LEPhV",
        "outputId": "b34d88f0-a896-4efe-fd01-14cbec251e0d"
      },
      "source": [
        "print(lnr)"
      ],
      "execution_count": null,
      "outputs": [
        {
          "output_type": "stream",
          "text": [
            "Linear(in_features=4000, out_features=256, bias=True)\n"
          ],
          "name": "stdout"
        }
      ]
    },
    {
      "cell_type": "code",
      "metadata": {
        "colab": {
          "base_uri": "https://localhost:8080/"
        },
        "id": "xNlmzzFhEiQb",
        "outputId": "1eec4583-ea10-4537-bcf5-66c7094176d6"
      },
      "source": [
        "for name, param in lnr.named_parameters():\n",
        "    print(name, '\\tWeights=',param.data.shape , '\\tParameters=',param.nelement())"
      ],
      "execution_count": null,
      "outputs": [
        {
          "output_type": "stream",
          "text": [
            "weight \tWeights= torch.Size([256, 4000]) \tParameters= 1024000\n",
            "bias \tWeights= torch.Size([256]) \tParameters= 256\n"
          ],
          "name": "stdout"
        }
      ]
    },
    {
      "cell_type": "code",
      "metadata": {
        "id": "8-fEi1RLElKy",
        "colab": {
          "base_uri": "https://localhost:8080/"
        },
        "outputId": "12d25288-93e4-40ce-efda-cf8432759311"
      },
      "source": [
        "x=\"I am Romit\"\n",
        "y=\"I used to be Romit\"\n",
        "sentence_bleu(sampled_caption,target_caption.split(' '))"
      ],
      "execution_count": null,
      "outputs": [
        {
          "output_type": "execute_result",
          "data": {
            "text/plain": [
              "0"
            ]
          },
          "metadata": {
            "tags": []
          },
          "execution_count": 128
        }
      ]
    },
    {
      "cell_type": "code",
      "metadata": {
        "colab": {
          "base_uri": "https://localhost:8080/"
        },
        "id": "mC1YoRATbSv8",
        "outputId": "4508f293-9737-4705-8548-7735075f7519"
      },
      "source": [
        "sampled_caption"
      ],
      "execution_count": null,
      "outputs": [
        {
          "output_type": "execute_result",
          "data": {
            "text/plain": [
              "[['up',\n",
              "  'a',\n",
              "  'close',\n",
              "  'up',\n",
              "  'of',\n",
              "  'a',\n",
              "  'red',\n",
              "  'and',\n",
              "  'white',\n",
              "  'photo',\n",
              "  '.',\n",
              "  '<end>']]"
            ]
          },
          "metadata": {
            "tags": []
          },
          "execution_count": 129
        }
      ]
    },
    {
      "cell_type": "code",
      "metadata": {
        "id": "ERhlw2gDbo0l"
      },
      "source": [
        ""
      ],
      "execution_count": null,
      "outputs": []
    }
  ]
}